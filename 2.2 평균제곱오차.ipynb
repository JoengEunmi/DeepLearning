{
 "cells": [
  {
   "cell_type": "code",
   "execution_count": 1,
   "metadata": {},
   "outputs": [],
   "source": [
    "#최소제곱법은 여러개의 입력을 처리하기에는 무리\n",
    "#여러개의 입력값을 계산할 떄는 임의의 선을 그리고 난 후, 이 선이 얼마나 잘 그려졌는지를 평가하여 조금씩 수정해 가는 방법 사용\n",
    "#이를 위해 주어진 선의 오차를 평가하는 오차 평가 알고리즘이 필요 -> 대표적인것이 '평균제곱오차(MSE)'"
   ]
  },
  {
   "cell_type": "markdown",
   "metadata": {},
   "source": [
    "### 코딩으로 확인하는 평균제곱오차"
   ]
  },
  {
   "cell_type": "code",
   "execution_count": 2,
   "metadata": {},
   "outputs": [],
   "source": [
    "#임의로 정한 기울기 'a'와 y절편 'b'의 값\n",
    "fake_a_b = [3, 76]"
   ]
  },
  {
   "cell_type": "code",
   "execution_count": 3,
   "metadata": {},
   "outputs": [],
   "source": [
    "#x값과 y값\n",
    "data = [[2,81], [4,93], [6,91], [8,97]]\n",
    "x = [i[0] for i in data]\n",
    "y = [i[1] for i in data]"
   ]
  },
  {
   "cell_type": "code",
   "execution_count": 4,
   "metadata": {},
   "outputs": [],
   "source": [
    "#예측값 일차방정식 함수\n",
    "def predict(x):\n",
    "    return fake_a_b[0]*x + fake_a_b[1]"
   ]
  },
  {
   "cell_type": "code",
   "execution_count": 6,
   "metadata": {},
   "outputs": [],
   "source": [
    "#평균제곱오차 공식 함수\n",
    "def mse(y, y_hat):\n",
    "    return ((y - y_hat)**2).mean()"
   ]
  },
  {
   "cell_type": "code",
   "execution_count": 7,
   "metadata": {},
   "outputs": [],
   "source": [
    "def mse_val(y, predict_result):\n",
    "    return mse(np.array(y), np.array(predict_result))"
   ]
  },
  {
   "cell_type": "code",
   "execution_count": 8,
   "metadata": {},
   "outputs": [
    {
     "name": "stdout",
     "output_type": "stream",
     "text": [
      "공부시간 = 2, 실제점수 = 81, 예측점수 = 82\n",
      "공부시간 = 4, 실제점수 = 93, 예측점수 = 88\n",
      "공부시간 = 6, 실제점수 = 91, 예측점수 = 94\n",
      "공부시간 = 8, 실제점수 = 97, 예측점수 = 100\n"
     ]
    }
   ],
   "source": [
    "#예측값이 들어갈 빈 리스트\n",
    "predict_result = []\n",
    "#모든 x값을 한번씩 대입\n",
    "for i in range(len(x)):\n",
    "    #그 결과에 해당하는 predict_result 리스트를 완성\n",
    "    predict_result.append(predict(x[i]))\n",
    "    print('공부시간 = %.f, 실제점수 = %.f, 예측점수 = %.f'%(x[i], y[i], predict(x[i])))"
   ]
  },
  {
   "cell_type": "markdown",
   "metadata": {},
   "source": [
    "### 코드정리"
   ]
  },
  {
   "cell_type": "code",
   "execution_count": 10,
   "metadata": {},
   "outputs": [
    {
     "name": "stdout",
     "output_type": "stream",
     "text": [
      "공부한시간 = 2, 실제점수 = 81, 예측점수 = 82\n",
      "공부한시간 = 4, 실제점수 = 93, 예측점수 = 88\n",
      "공부한시간 = 6, 실제점수 = 91, 예측점수 = 94\n",
      "공부한시간 = 8, 실제점수 = 97, 예측점수 = 100\n",
      "mse 최종값 = 11.0\n"
     ]
    }
   ],
   "source": [
    "#라이브러리 임포트\n",
    "import numpy as np\n",
    "\n",
    "#기울기 a와 y절편 b\n",
    "fake_a_b = [3, 76]\n",
    "\n",
    "#x,y값의 데이터\n",
    "data = [[2,81], [4,93], [6,91], [8,97]]\n",
    "x = [i[0] for i in data]\n",
    "y = [i[1] for i in data]\n",
    "\n",
    "#y=ax+b에 a와 b값을 대입하여 결과를 출력하는 함수\n",
    "def predict(x):\n",
    "    return fake_a_b[0]*x + fake_a_b[1]\n",
    "\n",
    "#평균제곱오차(MSE) 함수\n",
    "def mse(y, y_hat):\n",
    "    return ((y - y_hat)**2).mean()\n",
    "\n",
    "#MSE함수를 각 y값에 대입하여 최종 값을 구하는 함수\n",
    "def mse_val(y, predict_result):\n",
    "    return mse(np.array(y), np.array(predict_result))\n",
    "\n",
    "#예측값이 들어갈 빈 리스트\n",
    "predict_result = []\n",
    "\n",
    "#모든 x값을 한번씩 대입하여\n",
    "for i in range(len(x)):\n",
    "    #predict_result 리스트 완성\n",
    "    predict_result.append(predict(x[i]))\n",
    "    print('공부한시간 = %.f, 실제점수 = %.f, 예측점수 = %.f' %(x[i], y[i], predict(x[i])))\n",
    "\n",
    "#최종 MSE값 출력\n",
    "print('mse 최종값 = '+ str(mse_val(predict_result, y)))"
   ]
  },
  {
   "cell_type": "code",
   "execution_count": 11,
   "metadata": {},
   "outputs": [],
   "source": [
    "#처음 가정한 a=3, b=76은 오차가 약 11.0이다\n",
    "#a와 b의 값을 적절히 조절하면서 오차의 변화를 살펴보고, 그 오차가 최소화되는 a와 b값을 구해야 한다\n",
    "#오차를 줄이는 방법 => 경사하강법"
   ]
  }
 ],
 "metadata": {
  "kernelspec": {
   "display_name": "Python 3",
   "language": "python",
   "name": "python3"
  },
  "language_info": {
   "codemirror_mode": {
    "name": "ipython",
    "version": 3
   },
   "file_extension": ".py",
   "mimetype": "text/x-python",
   "name": "python",
   "nbconvert_exporter": "python",
   "pygments_lexer": "ipython3",
   "version": "3.8.5"
  }
 },
 "nbformat": 4,
 "nbformat_minor": 4
}
