{
 "cells": [
  {
   "cell_type": "markdown",
   "metadata": {},
   "source": [
    "### 코딩으로 확인하는 최소제곱법"
   ]
  },
  {
   "cell_type": "code",
   "execution_count": 1,
   "metadata": {},
   "outputs": [],
   "source": [
    "import numpy as np"
   ]
  },
  {
   "cell_type": "code",
   "execution_count": 3,
   "metadata": {},
   "outputs": [],
   "source": [
    "#성적x 와 공부한시간 y \n",
    "x = [2, 4, 6, 8]\n",
    "y = [81, 93, 91, 97]"
   ]
  },
  {
   "cell_type": "code",
   "execution_count": 5,
   "metadata": {},
   "outputs": [],
   "source": [
    "#최소제곱법 공식으로 기울기 'a'와 y절편 'b'를 구해보자\n",
    "mx = np.mean(x) #모든 원소의 평균을 구하는 넘파이 함수 mean()\n",
    "my = np.mean(y)"
   ]
  },
  {
   "cell_type": "code",
   "execution_count": 6,
   "metadata": {},
   "outputs": [],
   "source": [
    "#최소제곱법 기울기 공식의 분모 (x 편차 제곱에 대한 합)\n",
    "divisor = sum([(i - mx)**2 for i in x])"
   ]
  },
  {
   "cell_type": "code",
   "execution_count": 7,
   "metadata": {},
   "outputs": [],
   "source": [
    "#최소제곱법 기울기 공식의 분자(x편차와 y편차의 곱에 대한 합)\n",
    "def top(x,mx,y,my):\n",
    "    d=0\n",
    "    for i in range(len(x)):\n",
    "        d += (x[i] - mx) * (y[i] - my)\n",
    "    return d\n",
    "\n",
    "dividend = top(x,mx,y,my)"
   ]
  },
  {
   "cell_type": "code",
   "execution_count": 8,
   "metadata": {},
   "outputs": [],
   "source": [
    "#최소제곱법 기울기 공식 \n",
    "a = dividend / divisor"
   ]
  },
  {
   "cell_type": "code",
   "execution_count": 9,
   "metadata": {},
   "outputs": [],
   "source": [
    "#최소제곱법 y절편 공식\n",
    "b = my - (mx*a)"
   ]
  },
  {
   "cell_type": "markdown",
   "metadata": {},
   "source": [
    "### 코드 정리"
   ]
  },
  {
   "cell_type": "code",
   "execution_count": 12,
   "metadata": {},
   "outputs": [
    {
     "name": "stdout",
     "output_type": "stream",
     "text": [
      "x의 평균값 :  5.0\n",
      "y의 평균값 :  90.5\n",
      "분모 :  20.0\n",
      "분자 :  46.0\n",
      "기울기 a :  2.3\n",
      "y 절편 b :  79.0\n"
     ]
    }
   ],
   "source": [
    "import numpy as np\n",
    "\n",
    "#x값과 y값\n",
    "x = [2, 4, 6, 8]\n",
    "y = [81, 93, 91, 97]\n",
    "\n",
    "#x와 y의 평균값\n",
    "mx = np.mean(x)\n",
    "my = np.mean(y)\n",
    "print(\"x의 평균값 : \", mx)\n",
    "print(\"y의 평균값 : \", my)\n",
    "\n",
    "#기울기 공식의 분모\n",
    "divisor = sum([(i-mx)**2 for i in x])\n",
    "\n",
    "#기울기 공식의 분자\n",
    "def top(x, mx, y, my):\n",
    "    d = 0\n",
    "    for i in range(len(x)):\n",
    "        d += (x[i]-mx)*(y[i]-my)\n",
    "    return d\n",
    "dividend = top(x,mx,y,my)\n",
    "\n",
    "print(\"분모 : \", divisor)\n",
    "print(\"분자 : \", dividend)\n",
    "\n",
    "#기울기와 y절편 구하기\n",
    "a = dividend / divisor\n",
    "b = my - (mx * a)\n",
    "print(\"기울기 a : \", a)\n",
    "print(\"y 절편 b : \", b)"
   ]
  }
 ],
 "metadata": {
  "kernelspec": {
   "display_name": "Python 3",
   "language": "python",
   "name": "python3"
  },
  "language_info": {
   "codemirror_mode": {
    "name": "ipython",
    "version": 3
   },
   "file_extension": ".py",
   "mimetype": "text/x-python",
   "name": "python",
   "nbconvert_exporter": "python",
   "pygments_lexer": "ipython3",
   "version": "3.8.5"
  }
 },
 "nbformat": 4,
 "nbformat_minor": 4
}
