{
 "cells": [
  {
   "cell_type": "markdown",
   "metadata": {},
   "source": [
    "### 이미지의 특징을 추출하는 오토인코더"
   ]
  },
  {
   "cell_type": "code",
   "execution_count": 2,
   "metadata": {},
   "outputs": [],
   "source": [
    "#딥러닝을 이용해 가상의 이미지를 만드는 또 하나의 유명한 알고리즘인 '오토인코더(Auto-Encoder, AE)'\n",
    "#오터인코더는 GAN과 비슷한 결과를 만들지만, 다른 성질을 지니고 있다\n",
    "#GAN이 세상에 존재하지 않는 완전한 가상의 것을 만들어 내는 반면에, \n",
    "#오터인코더는 입력데이터의 특징을 효율적으로 담아낸 이미지를 만들어 낸다\n",
    "#GAN으로 사람의 얼굴을 만들면 진짜 같아 보여도 실제로는 존재하지 않는 완전한 가상의 이미지가 만들어진다\n",
    "#하지만 오터인코더로 사람의 얼굴을 만들 경우 초점이 흐릿하고 윤곽이 불분명하지만 사람의 특징을 유추할 수 있는 것들로 이미지가 만들어짐"
   ]
  },
  {
   "cell_type": "code",
   "execution_count": 3,
   "metadata": {},
   "outputs": [],
   "source": [
    "#이러한 오터인코더는 영상 의학 분야 등 아직 데이터 수가 충분하지 않은 분야에서 사용될 수 있다\n",
    "#학습데이터는 현실 세계의 정보를 담고 있어야 하므로, 세상에 존재하지 않는 가상의 것을 집어 넣으면 예상치 못한 결과를 가져올 수 있다\n",
    "#하지만 데이터의 특징을 잘 담아내는 오터인코더라면 부족한 학습 데이터 수를 효과적으로 늘려주는 효과를 기대할 수 있다"
   ]
  },
  {
   "cell_type": "code",
   "execution_count": 4,
   "metadata": {},
   "outputs": [],
   "source": [
    "#오터인코더의 학습은 GAN보다 훨씬 쉽다\n",
    "#입력한 이미지와 똑같은 크기로 출력층을 만들고, 입력층보다 적은 수의 노드를 가진 은닉층을 중간에 넣어줌으로써 차원을 줄여준다\n",
    "#이때 소실된 데이터를 복원하기 위해 학습을 시작하고, 이 과정을 통해 입력데이터의 특징을 효율적으로 응축한 새로운 출력이 나오는 원리"
   ]
  },
  {
   "cell_type": "code",
   "execution_count": 5,
   "metadata": {},
   "outputs": [],
   "source": [
    "#인코딩과 디코딩 과정을 코딩해 보자"
   ]
  },
  {
   "cell_type": "code",
   "execution_count": 6,
   "metadata": {},
   "outputs": [],
   "source": [
    "from keras.models import Sequential\n",
    "from keras.layers import Conv2D, Dense, MaxPooling2D, UpSampling2D"
   ]
  },
  {
   "cell_type": "code",
   "execution_count": 7,
   "metadata": {},
   "outputs": [],
   "source": [
    "#생성자 모델 만들기\n",
    "autoencoder = Sequential()"
   ]
  },
  {
   "cell_type": "code",
   "execution_count": 8,
   "metadata": {},
   "outputs": [],
   "source": [
    "#차원을 축소시키는 인코딩 부분, 다시 차원을 늘려 입력 값과 똑같은 크기의 출력 값을 내보내는 디코딩 부분\n",
    "#MaxPooling을 이용해 차원을 축소, UpSampling을 이용해 차원 확대\n",
    "#인코딩과 디코딩 2부분이 하나의 Sequential() 함수로 쭉 이어져 있다"
   ]
  },
  {
   "cell_type": "code",
   "execution_count": 10,
   "metadata": {},
   "outputs": [],
   "source": [
    "#인코딩부분\n",
    "autoencoder.add(Conv2D(16, kernel_size=3, padding='same', input_shape=(28,28,1), activation='relu'))\n",
    "autoencoder.add(MaxPooling2D(pool_size=2, padding='same'))\n",
    "autoencoder.add(Conv2D(8, kernel_size=3, padding='same', activation='relu'))\n",
    "autoencoder.add(MaxPooling2D(pool_size=2, padding='same'))\n",
    "autoencoder.add(Conv2D(8, kernel_size=3, padding='same', activation='relu', strides=2))"
   ]
  },
  {
   "cell_type": "code",
   "execution_count": 11,
   "metadata": {},
   "outputs": [],
   "source": [
    "#입력된 28*28 크기가 MaxPooling층을 거치면서 절반씩으로 줄어들어 마지막엔 4*4크기로 줄어듬"
   ]
  },
  {
   "cell_type": "code",
   "execution_count": 12,
   "metadata": {},
   "outputs": [],
   "source": [
    "#디코딩부분\n",
    "autoencoder.add(Conv2D(8, kernel_size=3, padding='same', activation='relu'))\n",
    "autoencoder.add(UpSampling2D())\n",
    "autoencoder.add(Conv2D(8, kernel_size=3, padding='same', activation='relu'))\n",
    "autoencoder.add(UpSampling2D())\n",
    "autoencoder.add(Conv2D(16, kernel_size=3, activation='relu')) #padding 조건이 존재하지 X\n",
    "autoencoder.add(UpSampling2D())\n",
    "autoencoder.add(Conv2D(1, kernel_size=3, padding='same', activation='sigmoid'))"
   ]
  },
  {
   "cell_type": "code",
   "execution_count": 14,
   "metadata": {},
   "outputs": [],
   "source": [
    "#4*4 크기가 UpSampling층을 거치면서 2배씩 늘어나 마지막엔 28*28크기로 원상복귀\n",
    "#마지막층의 벡터값이 처음 입력값과 같은 크기가 되면 모든 준비가 끝난 것이다"
   ]
  },
  {
   "cell_type": "markdown",
   "metadata": {},
   "source": [
    "### 오터인코더 실습"
   ]
  },
  {
   "cell_type": "code",
   "execution_count": 15,
   "metadata": {},
   "outputs": [],
   "source": [
    "from keras.datasets import mnist\n",
    "from keras.models import Sequential\n",
    "from keras.layers import Dense, Conv2D, MaxPooling2D, UpSampling2D, Reshape\n",
    "\n",
    "import matplotlib.pyplot as plt\n",
    "import numpy as np"
   ]
  },
  {
   "cell_type": "code",
   "execution_count": 26,
   "metadata": {},
   "outputs": [],
   "source": [
    "#MNIST 데이터셋 불러오기\n",
    "(X_train, _), (X_test, _) = mnist.load_data()\n",
    "X_train = X_train.reshape(X_train.shape[0], 28, 28, 1).astype('float32') / 255\n",
    "X_test = X_test.reshape(X_test.shape[0], 28, 28, 1).astype('float32') / 255"
   ]
  },
  {
   "cell_type": "code",
   "execution_count": 27,
   "metadata": {},
   "outputs": [],
   "source": [
    "#생성자모델 만들기\n",
    "autoencoder = Sequential()"
   ]
  },
  {
   "cell_type": "code",
   "execution_count": 31,
   "metadata": {},
   "outputs": [],
   "source": [
    "#인코딩 부분\n",
    "autoencoder.add(Conv2D(16, kernel_size=3, padding='same', activation='relu', input_shape=(28,28,1)))\n",
    "autoencoder.add(MaxPooling2D(pool_size=2, padding='same'))\n",
    "autoencoder.add(Conv2D(8, kernel_size=3, padding='same', activation='relu'))\n",
    "autoencoder.add(MaxPooling2D(pool_size=2, padding='same'))\n",
    "autoencoder.add(Conv2D(8, kernel_size=3, padding='same', activation='relu', strides=2))"
   ]
  },
  {
   "cell_type": "code",
   "execution_count": 32,
   "metadata": {},
   "outputs": [],
   "source": [
    "#디코딩 부분\n",
    "autoencoder.add(Conv2D(8, kernel_size=3, padding='same', activation='relu'))\n",
    "autoencoder.add(UpSampling2D())\n",
    "autoencoder.add(Conv2D(8, kernel_size=3, padding='same', activation='relu'))\n",
    "autoencoder.add(UpSampling2D())\n",
    "autoencoder.add(Conv2D(16, kernel_size=3, activation='relu'))\n",
    "autoencoder.add(UpSampling2D())\n",
    "autoencoder.add(Conv2D(1, kernel_size=3, padding='same', activation='sigmoid'))"
   ]
  },
  {
   "cell_type": "code",
   "execution_count": 34,
   "metadata": {},
   "outputs": [
    {
     "name": "stdout",
     "output_type": "stream",
     "text": [
      "Model: \"sequential_2\"\n",
      "_________________________________________________________________\n",
      "Layer (type)                 Output Shape              Param #   \n",
      "=================================================================\n",
      "conv2d_19 (Conv2D)           (None, 28, 28, 16)        160       \n",
      "_________________________________________________________________\n",
      "max_pooling2d_7 (MaxPooling2 (None, 14, 14, 16)        0         \n",
      "_________________________________________________________________\n",
      "conv2d_20 (Conv2D)           (None, 14, 14, 8)         1160      \n",
      "_________________________________________________________________\n",
      "max_pooling2d_8 (MaxPooling2 (None, 7, 7, 8)           0         \n",
      "_________________________________________________________________\n",
      "conv2d_21 (Conv2D)           (None, 4, 4, 8)           584       \n",
      "_________________________________________________________________\n",
      "conv2d_22 (Conv2D)           (None, 4, 4, 8)           584       \n",
      "_________________________________________________________________\n",
      "up_sampling2d_8 (UpSampling2 (None, 8, 8, 8)           0         \n",
      "_________________________________________________________________\n",
      "conv2d_23 (Conv2D)           (None, 8, 8, 8)           584       \n",
      "_________________________________________________________________\n",
      "up_sampling2d_9 (UpSampling2 (None, 16, 16, 8)         0         \n",
      "_________________________________________________________________\n",
      "conv2d_24 (Conv2D)           (None, 14, 14, 16)        1168      \n",
      "_________________________________________________________________\n",
      "up_sampling2d_10 (UpSampling (None, 28, 28, 16)        0         \n",
      "_________________________________________________________________\n",
      "conv2d_25 (Conv2D)           (None, 28, 28, 1)         145       \n",
      "_________________________________________________________________\n",
      "conv2d_26 (Conv2D)           (None, 28, 28, 16)        160       \n",
      "_________________________________________________________________\n",
      "max_pooling2d_9 (MaxPooling2 (None, 14, 14, 16)        0         \n",
      "_________________________________________________________________\n",
      "conv2d_27 (Conv2D)           (None, 14, 14, 8)         1160      \n",
      "_________________________________________________________________\n",
      "max_pooling2d_10 (MaxPooling (None, 7, 7, 8)           0         \n",
      "_________________________________________________________________\n",
      "conv2d_28 (Conv2D)           (None, 4, 4, 8)           584       \n",
      "_________________________________________________________________\n",
      "conv2d_29 (Conv2D)           (None, 4, 4, 8)           584       \n",
      "_________________________________________________________________\n",
      "up_sampling2d_11 (UpSampling (None, 8, 8, 8)           0         \n",
      "_________________________________________________________________\n",
      "conv2d_30 (Conv2D)           (None, 8, 8, 8)           584       \n",
      "_________________________________________________________________\n",
      "up_sampling2d_12 (UpSampling (None, 16, 16, 8)         0         \n",
      "_________________________________________________________________\n",
      "conv2d_31 (Conv2D)           (None, 14, 14, 16)        1168      \n",
      "_________________________________________________________________\n",
      "up_sampling2d_13 (UpSampling (None, 28, 28, 16)        0         \n",
      "_________________________________________________________________\n",
      "conv2d_32 (Conv2D)           (None, 28, 28, 1)         145       \n",
      "=================================================================\n",
      "Total params: 8,770\n",
      "Trainable params: 8,770\n",
      "Non-trainable params: 0\n",
      "_________________________________________________________________\n"
     ]
    }
   ],
   "source": [
    "#전체구조 확인\n",
    "autoencoder.summary()"
   ]
  },
  {
   "cell_type": "code",
   "execution_count": 35,
   "metadata": {},
   "outputs": [
    {
     "name": "stdout",
     "output_type": "stream",
     "text": [
      "Epoch 1/50\n",
      "469/469 [==============================] - 198s 423ms/step - loss: 0.2492 - val_loss: 0.1742\n",
      "Epoch 2/50\n",
      "469/469 [==============================] - 198s 423ms/step - loss: 0.1592 - val_loss: 0.1497\n",
      "Epoch 3/50\n",
      "469/469 [==============================] - 129s 274ms/step - loss: 0.1436 - val_loss: 0.1364\n",
      "Epoch 4/50\n",
      "469/469 [==============================] - 114s 242ms/step - loss: 0.1338 - val_loss: 0.1290\n",
      "Epoch 5/50\n",
      "469/469 [==============================] - 119s 253ms/step - loss: 0.1282 - val_loss: 0.1248\n",
      "Epoch 6/50\n",
      "469/469 [==============================] - 196s 417ms/step - loss: 0.1245 - val_loss: 0.1213\n",
      "Epoch 7/50\n",
      "469/469 [==============================] - 198s 423ms/step - loss: 0.1217 - val_loss: 0.1194\n",
      "Epoch 8/50\n",
      "469/469 [==============================] - 198s 422ms/step - loss: 0.1193 - val_loss: 0.1169\n",
      "Epoch 9/50\n",
      "469/469 [==============================] - 180s 383ms/step - loss: 0.1171 - val_loss: 0.1144\n",
      "Epoch 10/50\n",
      "469/469 [==============================] - 1549s 3s/step - loss: 0.1151 - val_loss: 0.1132\n",
      "Epoch 11/50\n",
      "469/469 [==============================] - 110s 234ms/step - loss: 0.1135 - val_loss: 0.1125\n",
      "Epoch 12/50\n",
      "469/469 [==============================] - 117s 250ms/step - loss: 0.1122 - val_loss: 0.1105\n",
      "Epoch 13/50\n",
      "469/469 [==============================] - 109s 233ms/step - loss: 0.1109 - val_loss: 0.1087\n",
      "Epoch 14/50\n",
      "469/469 [==============================] - 105s 224ms/step - loss: 0.1099 - val_loss: 0.1075\n",
      "Epoch 15/50\n",
      "469/469 [==============================] - 107s 228ms/step - loss: 0.1087 - val_loss: 0.1075\n",
      "Epoch 16/50\n",
      "469/469 [==============================] - 105s 224ms/step - loss: 0.1081 - val_loss: 0.1074\n",
      "Epoch 17/50\n",
      "469/469 [==============================] - 105s 224ms/step - loss: 0.1071 - val_loss: 0.1048\n",
      "Epoch 18/50\n",
      "469/469 [==============================] - 107s 229ms/step - loss: 0.1064 - val_loss: 0.1049\n",
      "Epoch 19/50\n",
      "469/469 [==============================] - 102s 218ms/step - loss: 0.1057 - val_loss: 0.1041\n",
      "Epoch 20/50\n",
      "469/469 [==============================] - 105s 223ms/step - loss: 0.1051 - val_loss: 0.1034\n",
      "Epoch 21/50\n",
      "469/469 [==============================] - 114s 242ms/step - loss: 0.1046 - val_loss: 0.1028\n",
      "Epoch 22/50\n",
      "469/469 [==============================] - 103s 221ms/step - loss: 0.1040 - val_loss: 0.1021\n",
      "Epoch 23/50\n",
      "469/469 [==============================] - 107s 228ms/step - loss: 0.1035 - val_loss: 0.1028\n",
      "Epoch 24/50\n",
      "469/469 [==============================] - 105s 225ms/step - loss: 0.1030 - val_loss: 0.1009\n",
      "Epoch 25/50\n",
      "469/469 [==============================] - 106s 226ms/step - loss: 0.1026 - val_loss: 0.1022\n",
      "Epoch 26/50\n",
      "469/469 [==============================] - 106s 225ms/step - loss: 0.1020 - val_loss: 0.1005\n",
      "Epoch 27/50\n",
      "469/469 [==============================] - 109s 231ms/step - loss: 0.1018 - val_loss: 0.1000\n",
      "Epoch 28/50\n",
      "469/469 [==============================] - 106s 225ms/step - loss: 0.1013 - val_loss: 0.0992\n",
      "Epoch 29/50\n",
      "469/469 [==============================] - 107s 229ms/step - loss: 0.1009 - val_loss: 0.0993\n",
      "Epoch 30/50\n",
      "469/469 [==============================] - 107s 227ms/step - loss: 0.1006 - val_loss: 0.0990\n",
      "Epoch 31/50\n",
      "469/469 [==============================] - 106s 226ms/step - loss: 0.1001 - val_loss: 0.1002\n",
      "Epoch 32/50\n",
      "469/469 [==============================] - 105s 224ms/step - loss: 0.1000 - val_loss: 0.1006\n",
      "Epoch 33/50\n",
      "469/469 [==============================] - 108s 230ms/step - loss: 0.0995 - val_loss: 0.0978\n",
      "Epoch 34/50\n",
      "469/469 [==============================] - 107s 229ms/step - loss: 0.0993 - val_loss: 0.0980\n",
      "Epoch 35/50\n",
      "469/469 [==============================] - 108s 230ms/step - loss: 0.0989 - val_loss: 0.0975\n",
      "Epoch 36/50\n",
      "469/469 [==============================] - 124s 265ms/step - loss: 0.0987 - val_loss: 0.0978\n",
      "Epoch 37/50\n",
      "469/469 [==============================] - 105s 224ms/step - loss: 0.0983 - val_loss: 0.0972\n",
      "Epoch 38/50\n",
      "469/469 [==============================] - 107s 229ms/step - loss: 0.0980 - val_loss: 0.0970\n",
      "Epoch 39/50\n",
      "469/469 [==============================] - 108s 231ms/step - loss: 0.0978 - val_loss: 0.0965\n",
      "Epoch 40/50\n",
      "469/469 [==============================] - 105s 223ms/step - loss: 0.0976 - val_loss: 0.0957\n",
      "Epoch 41/50\n",
      "469/469 [==============================] - 109s 233ms/step - loss: 0.0973 - val_loss: 0.0960\n",
      "Epoch 42/50\n",
      "469/469 [==============================] - 108s 231ms/step - loss: 0.0971 - val_loss: 0.0953\n",
      "Epoch 43/50\n",
      "469/469 [==============================] - 106s 227ms/step - loss: 0.0968 - val_loss: 0.0970\n",
      "Epoch 44/50\n",
      "469/469 [==============================] - 110s 233ms/step - loss: 0.0965 - val_loss: 0.0959\n",
      "Epoch 45/50\n",
      "469/469 [==============================] - 113s 241ms/step - loss: 0.0963 - val_loss: 0.0971\n",
      "Epoch 46/50\n",
      "469/469 [==============================] - 108s 230ms/step - loss: 0.0961 - val_loss: 0.0950\n",
      "Epoch 47/50\n",
      "469/469 [==============================] - 111s 236ms/step - loss: 0.0958 - val_loss: 0.0942\n",
      "Epoch 48/50\n",
      "469/469 [==============================] - 107s 229ms/step - loss: 0.0956 - val_loss: 0.0939\n",
      "Epoch 49/50\n",
      "469/469 [==============================] - 109s 233ms/step - loss: 0.0954 - val_loss: 0.0958\n",
      "Epoch 50/50\n",
      "469/469 [==============================] - 106s 226ms/step - loss: 0.0953 - val_loss: 0.0939\n"
     ]
    },
    {
     "data": {
      "text/plain": [
       "<tensorflow.python.keras.callbacks.History at 0x1682610c610>"
      ]
     },
     "execution_count": 35,
     "metadata": {},
     "output_type": "execute_result"
    }
   ],
   "source": [
    "#컴파일 및 학습을 하는 부분\n",
    "autoencoder.compile(loss='binary_crossentropy', optimizer='adam')\n",
    "autoencoder.fit(X_train, X_train, epochs=50, batch_size=128, validation_data=(X_test, X_test))"
   ]
  },
  {
   "cell_type": "code",
   "execution_count": 39,
   "metadata": {},
   "outputs": [],
   "source": [
    "#학습된 결과를 출력하는 부분\n",
    "random_test = np.random.randint(X_test.shape[0], size=5)"
   ]
  },
  {
   "cell_type": "code",
   "execution_count": 40,
   "metadata": {},
   "outputs": [
    {
     "data": {
      "text/plain": [
       "<Figure size 504x144 with 0 Axes>"
      ]
     },
     "execution_count": 40,
     "metadata": {},
     "output_type": "execute_result"
    },
    {
     "data": {
      "text/plain": [
       "<Figure size 504x144 with 0 Axes>"
      ]
     },
     "metadata": {},
     "output_type": "display_data"
    }
   ],
   "source": [
    "#테스트할 이미지를 랜덤으로 호출\n",
    "ae_imgs = autoencoder.predict(X_test) #앞서 만든 autoencoder모델에 넣기\n",
    "plt.figure(figsize=(7,2)) #출력 이미지 크기 정하기"
   ]
  },
  {
   "cell_type": "code",
   "execution_count": 41,
   "metadata": {},
   "outputs": [
    {
     "data": {
      "image/png": "[encoded data removed]",
      "text/plain": [
       "<Figure size 432x288 with 10 Axes>"
      ]
     },
     "metadata": {
      "needs_background": "light"
     },
     "output_type": "display_data"
    }
   ],
   "source": [
    "for i, image_idx in enumerate(random_test):\n",
    "    #랜덤으로 뽑은 이미지를 차례로 나열\n",
    "    ax = plt.subplot(2,7, i+1)\n",
    "    #테스트할 이미지를 먼저 그대로 보여줌\n",
    "    plt.imshow(X_test[image_idx].reshape(28,28))\n",
    "    ax.axis('off')\n",
    "    ax = plt.subplot(2,7,7+i+1)\n",
    "    #오토인코딩 결과를 다음열에 입력\n",
    "    plt.imshow(ae_imgs[image_idx].reshape(28,28))\n",
    "    ax.axis('off')\n",
    "\n",
    "plt.show()"
   ]
  }
 ],
 "metadata": {
  "kernelspec": {
   "display_name": "Python 3",
   "language": "python",
   "name": "python3"
  },
  "language_info": {
   "codemirror_mode": {
    "name": "ipython",
    "version": 3
   },
   "file_extension": ".py",
   "mimetype": "text/x-python",
   "name": "python",
   "nbconvert_exporter": "python",
   "pygments_lexer": "ipython3",
   "version": "3.8.5"
  }
 },
 "nbformat": 4,
 "nbformat_minor": 4
}
