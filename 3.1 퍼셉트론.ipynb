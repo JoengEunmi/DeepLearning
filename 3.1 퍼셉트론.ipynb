{
 "cells": [
  {
   "cell_type": "code",
   "execution_count": 1,
   "metadata": {},
   "outputs": [],
   "source": [
    "#신경망을 이루는 가장 중요한 기본 단위는 '퍼셉트론'이다\n",
    "#퍼셉트론은 입력값과 활성화함수를 사용해 출력값을 다음으로 넘기는 가장 작은 신경망 단위이다."
   ]
  },
  {
   "cell_type": "code",
   "execution_count": 2,
   "metadata": {},
   "outputs": [],
   "source": [
    "#로지스틱회귀는 신경망의 개념과 일치한다\n",
    "#기울기 a는 가중치 w(weight), y절편 b는 바이어스 b(biasa)로 표기\n",
    "#가중합 : 입력값(x)과 가중치(w)의 곱을 모두 더한 다음 바이어스(b)를 더한 값\n",
    "#가중합을 결과를 놓고 1과 0을 출력해서 다음으로 보낸다\n",
    "#여기서 1과 0을 판단하는 함수가 활성화함수이다. (대표적인 활성화함수는 sigmoid함수)"
   ]
  },
  {
   "cell_type": "code",
   "execution_count": 3,
   "metadata": {},
   "outputs": [],
   "source": [
    "#XOR문제를 해결할 수 있는것이 바로 다층퍼셉트론이다."
   ]
  },
  {
   "cell_type": "code",
   "execution_count": 20,
   "metadata": {},
   "outputs": [],
   "source": [
    "import numpy as np\n",
    "\n",
    "w11 = np.array([-2,-2])\n",
    "w12 = np.array([2,2])\n",
    "w2 = np.array([1,1])\n",
    "b1 = 3\n",
    "b2 = -1\n",
    "b3 = -1"
   ]
  },
  {
   "cell_type": "code",
   "execution_count": 24,
   "metadata": {},
   "outputs": [],
   "source": [
    "def MLP(x,w,b):\n",
    "    y = np.sum(w*x) + b\n",
    "    if y <= 0:\n",
    "        return 0\n",
    "    else:\n",
    "        return 1"
   ]
  },
  {
   "cell_type": "code",
   "execution_count": 27,
   "metadata": {},
   "outputs": [],
   "source": [
    "#NAND 게이트\n",
    "def NAND(x1,x2):\n",
    "    return MLP(np.array([x1,x2]),w11,b1)\n",
    "#OR 게이트\n",
    "def OR(x1,x2):\n",
    "    return MLP(np.array([x1,x2]),w12,b2)\n",
    "#AND 게이트\n",
    "def AND(x1,x2):\n",
    "    return MLP(np.array([x1,x2]),w2,b3)\n",
    "#XOR 게이트\n",
    "def XOR(x1,x2):\n",
    "    return AND(NAND(x1,x2),OR(x1,x2))"
   ]
  },
  {
   "cell_type": "code",
   "execution_count": 29,
   "metadata": {},
   "outputs": [
    {
     "name": "stdout",
     "output_type": "stream",
     "text": [
      "입력값 : (0, 0) 출력값 : 0\n",
      "입력값 : (1, 0) 출력값 : 1\n",
      "입력값 : (0, 1) 출력값 : 1\n",
      "입력값 : (1, 1) 출력값 : 0\n"
     ]
    }
   ],
   "source": [
    "if __name__ == '__main__':  #자체적으로 위함수들이 선언되어져있는 곳에서 사용하겠다.\n",
    "    for x in [(0,0),(1,0),(0,1),(1,1)]:\n",
    "        y = XOR(x[0],x[1])\n",
    "        print('입력값 : ' + str(x) + ' 출력값 : ' + str(y))"
   ]
  },
  {
   "cell_type": "markdown",
   "metadata": {},
   "source": [
    "### 코딩으로 XOR문제 해결하기"
   ]
  },
  {
   "cell_type": "code",
   "execution_count": 38,
   "metadata": {},
   "outputs": [
    {
     "name": "stdout",
     "output_type": "stream",
     "text": [
      "입력값 = (0, 0), 출력값 : 0\n",
      "입력값 = (0, 1), 출력값 : 1\n",
      "입력값 = (1, 0), 출력값 : 1\n",
      "입력값 = (1, 1), 출력값 : 0\n"
     ]
    }
   ],
   "source": [
    "import numpy as np\n",
    "\n",
    "w11 = [-2,-2]\n",
    "w12 = [2,2]\n",
    "w2 = [1,1]\n",
    "b1 = 3\n",
    "b2 = -1\n",
    "b3 = -1\n",
    "\n",
    "def MLP(x,w,b):\n",
    "    y = np.sum(x*w) + b\n",
    "    if y<=0:\n",
    "        return 0\n",
    "    else:\n",
    "        return 1\n",
    "    \n",
    "def NAND(x1, x2):\n",
    "    return MLP(np.array([x1,x2]), w11, b1)\n",
    "\n",
    "def OR(x1,x2):\n",
    "    return MLP(np.array([x1,x2]), w12, b2)\n",
    "\n",
    "def AND(x1,x2):\n",
    "    return MLP(np.array([x1,x2]), w2, b3)\n",
    "\n",
    "def XOR(x1,x2):\n",
    "    return AND(NAND(x1,x2), OR(x1,x2))\n",
    "\n",
    "if __name__ == '__main__':\n",
    "    for x in [(0,0),(0,1),(1,0),(1,1)]:\n",
    "        y = XOR(x[0], x[1])\n",
    "        print('입력값 = ' + str(x) + ', 출력값 : ' + str(y))"
   ]
  }
 ],
 "metadata": {
  "kernelspec": {
   "display_name": "Python 3",
   "language": "python",
   "name": "python3"
  },
  "language_info": {
   "codemirror_mode": {
    "name": "ipython",
    "version": 3
   },
   "file_extension": ".py",
   "mimetype": "text/x-python",
   "name": "python",
   "nbconvert_exporter": "python",
   "pygments_lexer": "ipython3",
   "version": "3.8.5"
  }
 },
 "nbformat": 4,
 "nbformat_minor": 4
}
