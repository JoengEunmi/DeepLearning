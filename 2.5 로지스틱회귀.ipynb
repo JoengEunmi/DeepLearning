{
 "cells": [
  {
   "cell_type": "code",
   "execution_count": 1,
   "metadata": {},
   "outputs": [],
   "source": [
    "#참과 거짓 중에 하나를 내놓는 과정을 '로지스틱 회귀'의 원리를 거쳐 이루어진다\n",
    "#이를 통해 입력값의 특징을 추출하고, 모델(model)을 만든다\n",
    "#로지스틱회귀는 참(1)과 거짓(0) 사이를 구분하는 S자 형태의 선(시그모이드:sigmoid)을 그어주는 작업"
   ]
  },
  {
   "cell_type": "code",
   "execution_count": 2,
   "metadata": {},
   "outputs": [],
   "source": [
    "#시그모이드 함수에서 a값이 작을수록 오차는 무한대로 커지지만, a값이 크다고 해서 오차가 없어지지는 않는다\n",
    "#b값이 너무 크거나 너무 작을 경우 오차가 커진다\n",
    "#오차를 구하는 방법도 역시 경사하강법을 사용한다 => 로그함수 사용"
   ]
  },
  {
   "cell_type": "code",
   "execution_count": 4,
   "metadata": {},
   "outputs": [],
   "source": [
    "data = [[2,0], [4,0], [6,0], [8,1], [10,1], [12,1], [14,1]]\n",
    "x_data = [i[0] for i in data] #공부시간\n",
    "y_data = [i[1] for i in data] #합격여부"
   ]
  },
  {
   "cell_type": "code",
   "execution_count": 6,
   "metadata": {},
   "outputs": [
    {
     "data": {
      "text/plain": [
       "(-0.1, 1.1)"
      ]
     },
     "execution_count": 6,
     "metadata": {},
     "output_type": "execute_result"
    },
    {
     "data": {
      "image/png": "[encoded data removed]",
      "text/plain": [
       "<Figure size 432x288 with 1 Axes>"
      ]
     },
     "metadata": {
      "needs_background": "light"
     },
     "output_type": "display_data"
    }
   ],
   "source": [
    "import matplotlib.pyplot as plt\n",
    "\n",
    "plt.scatter(x_data, y_data)\n",
    "plt.xlim(0,15)\n",
    "plt.ylim(-0.1, 1.1)"
   ]
  },
  {
   "cell_type": "code",
   "execution_count": 7,
   "metadata": {},
   "outputs": [],
   "source": [
    "a = 0\n",
    "b = 0\n",
    "lr = 0.05 #학습률"
   ]
  },
  {
   "cell_type": "code",
   "execution_count": 8,
   "metadata": {},
   "outputs": [],
   "source": [
    "def sigmoid(x):\n",
    "    return 1/(1+np.e**(-x)) #시그모이드 함수 공식"
   ]
  },
  {
   "cell_type": "code",
   "execution_count": 10,
   "metadata": {},
   "outputs": [],
   "source": [
    "import numpy as np\n",
    "for i in range(2001):\n",
    "    for x_data, y_data in data:\n",
    "        #a에 관한 편미분\n",
    "        a_diff = x_data * (sigmoid(a*x_data + b) - y_data)\n",
    "        #b에 관한 편미분\n",
    "        b_diff = sigmoid(a*x_data + b) - y_data\n",
    "        \n",
    "        a = a - lr*a_diff\n",
    "        b = b - lr*b_diff"
   ]
  },
  {
   "cell_type": "markdown",
   "metadata": {},
   "source": [
    "### 코딩으로 확인하는 로지스틱 회귀"
   ]
  },
  {
   "cell_type": "code",
   "execution_count": 13,
   "metadata": {},
   "outputs": [
    {
     "name": "stdout",
     "output_type": "stream",
     "text": [
      "epoch = 0, 기울기 a = -0.0500, y절편 b = -0.0250\n",
      "epoch = 0, 기울기 a = -0.1388, y절편 b = -0.0472\n",
      "epoch = 0, 기울기 a = -0.2268, y절편 b = -0.0619\n",
      "epoch = 0, 기울기 a = 0.1201, y절편 b = -0.0185\n",
      "epoch = 0, 기울기 a = 0.2374, y절편 b = -0.0068\n",
      "epoch = 0, 기울기 a = 0.2705, y절편 b = -0.0040\n",
      "epoch = 0, 기울기 a = 0.2860, y절편 b = -0.0029\n",
      "epoch = 100, 기울기 a = 0.6308, y절편 b = -3.2327\n",
      "epoch = 100, 기울기 a = 0.5649, y절편 b = -3.2492\n",
      "epoch = 100, 기울기 a = 0.4044, y절편 b = -3.2759\n",
      "epoch = 100, 기울기 a = 0.6085, y절편 b = -3.2504\n",
      "epoch = 100, 기울기 a = 0.6362, y절편 b = -3.2476\n",
      "epoch = 100, 기울기 a = 0.6436, y절편 b = -3.2470\n",
      "epoch = 100, 기울기 a = 0.6458, y절편 b = -3.2469\n",
      "epoch = 200, 기울기 a = 0.8310, y절편 b = -4.8166\n",
      "epoch = 200, 기울기 a = 0.7942, y절편 b = -4.8258\n",
      "epoch = 200, 기울기 a = 0.6488, y절편 b = -4.8500\n",
      "epoch = 200, 기울기 a = 0.8151, y절편 b = -4.8292\n",
      "epoch = 200, 기울기 a = 0.8325, y절편 b = -4.8275\n",
      "epoch = 200, 기울기 a = 0.8359, y절편 b = -4.8272\n",
      "epoch = 200, 기울기 a = 0.8366, y절편 b = -4.8272\n",
      "epoch = 300, 기울기 a = 0.9686, y절편 b = -5.8997\n",
      "epoch = 300, 기울기 a = 0.9453, y절편 b = -5.9056\n",
      "epoch = 300, 기울기 a = 0.8127, y절편 b = -5.9276\n",
      "epoch = 300, 기울기 a = 0.9568, y절편 b = -5.9096\n",
      "epoch = 300, 기울기 a = 0.9694, y절편 b = -5.9084\n",
      "epoch = 300, 기울기 a = 0.9714, y절편 b = -5.9082\n",
      "epoch = 300, 기울기 a = 0.9717, y절편 b = -5.9082\n",
      "epoch = 400, 기울기 a = 1.0771, y절편 b = -6.7449\n",
      "epoch = 400, 기울기 a = 1.0611, y절편 b = -6.7489\n",
      "epoch = 400, 기울기 a = 0.9394, y절편 b = -6.7692\n",
      "epoch = 400, 기울기 a = 1.0681, y절편 b = -6.7531\n",
      "epoch = 400, 기울기 a = 1.0777, y절편 b = -6.7521\n",
      "epoch = 400, 기울기 a = 1.0790, y절편 b = -6.7520\n",
      "epoch = 400, 기울기 a = 1.0791, y절편 b = -6.7520\n",
      "epoch = 500, 기울기 a = 1.1684, y절편 b = -7.4486\n",
      "epoch = 500, 기울기 a = 1.1567, y절편 b = -7.4516\n",
      "epoch = 500, 기울기 a = 1.0442, y절편 b = -7.4703\n",
      "epoch = 500, 기울기 a = 1.1612, y절편 b = -7.4557\n",
      "epoch = 500, 기울기 a = 1.1689, y절편 b = -7.4549\n",
      "epoch = 500, 기울기 a = 1.1698, y절편 b = -7.4549\n",
      "epoch = 500, 기울기 a = 1.1698, y절편 b = -7.4548\n",
      "epoch = 600, 기울기 a = 1.2480, y절편 b = -8.0575\n",
      "epoch = 600, 기울기 a = 1.2391, y절편 b = -8.0597\n",
      "epoch = 600, 기울기 a = 1.1345, y절편 b = -8.0771\n",
      "epoch = 600, 기울기 a = 1.2422, y절편 b = -8.0637\n",
      "epoch = 600, 기울기 a = 1.2485, y절편 b = -8.0630\n",
      "epoch = 600, 기울기 a = 1.2491, y절편 b = -8.0630\n",
      "epoch = 600, 기울기 a = 1.2491, y절편 b = -8.0630\n",
      "epoch = 700, 기울기 a = 1.3191, y절편 b = -8.5973\n",
      "epoch = 700, 기울기 a = 1.3121, y절편 b = -8.5991\n",
      "epoch = 700, 기울기 a = 1.2143, y절편 b = -8.6154\n",
      "epoch = 700, 기울기 a = 1.3143, y절편 b = -8.6029\n",
      "epoch = 700, 기울기 a = 1.3196, y절편 b = -8.6023\n",
      "epoch = 700, 기울기 a = 1.3200, y절편 b = -8.6023\n",
      "epoch = 700, 기울기 a = 1.3200, y절편 b = -8.6023\n",
      "epoch = 800, 기울기 a = 1.3836, y절편 b = -9.0844\n",
      "epoch = 800, 기울기 a = 1.3780, y절편 b = -9.0858\n",
      "epoch = 800, 기울기 a = 1.2861, y절편 b = -9.1011\n",
      "epoch = 800, 기울기 a = 1.3796, y절편 b = -9.0894\n",
      "epoch = 800, 기울기 a = 1.3841, y절편 b = -9.0890\n",
      "epoch = 800, 기울기 a = 1.3844, y절편 b = -9.0889\n",
      "epoch = 800, 기울기 a = 1.3844, y절편 b = -9.0889\n",
      "epoch = 900, 기울기 a = 1.4429, y절편 b = -9.5294\n",
      "epoch = 900, 기울기 a = 1.4383, y절편 b = -9.5306\n",
      "epoch = 900, 기울기 a = 1.3516, y절편 b = -9.5450\n",
      "epoch = 900, 기울기 a = 1.4395, y절편 b = -9.5340\n",
      "epoch = 900, 기울기 a = 1.4433, y절편 b = -9.5337\n",
      "epoch = 900, 기울기 a = 1.4436, y절편 b = -9.5336\n",
      "epoch = 900, 기울기 a = 1.4436, y절편 b = -9.5336\n",
      "epoch = 1000, 기울기 a = 1.4978, y절편 b = -9.9401\n",
      "epoch = 1000, 기울기 a = 1.4940, y절편 b = -9.9411\n",
      "epoch = 1000, 기울기 a = 1.4120, y절편 b = -9.9547\n",
      "epoch = 1000, 기울기 a = 1.4949, y절편 b = -9.9444\n",
      "epoch = 1000, 기울기 a = 1.4982, y절편 b = -9.9440\n",
      "epoch = 1000, 기울기 a = 1.4984, y절편 b = -9.9440\n",
      "epoch = 1000, 기울기 a = 1.4985, y절편 b = -9.9440\n",
      "epoch = 1100, 기울기 a = 1.5491, y절편 b = -10.3220\n",
      "epoch = 1100, 기울기 a = 1.5459, y절편 b = -10.3228\n",
      "epoch = 1100, 기울기 a = 1.4680, y절편 b = -10.3358\n",
      "epoch = 1100, 기울기 a = 1.5466, y절편 b = -10.3260\n",
      "epoch = 1100, 기울기 a = 1.5495, y절편 b = -10.3257\n",
      "epoch = 1100, 기울기 a = 1.5497, y절편 b = -10.3257\n",
      "epoch = 1100, 기울기 a = 1.5497, y절편 b = -10.3257\n",
      "epoch = 1200, 기울기 a = 1.5973, y절편 b = -10.6795\n",
      "epoch = 1200, 기울기 a = 1.5946, y절편 b = -10.6801\n",
      "epoch = 1200, 기울기 a = 1.5204, y절편 b = -10.6925\n",
      "epoch = 1200, 기울기 a = 1.5951, y절편 b = -10.6832\n",
      "epoch = 1200, 기울기 a = 1.5977, y절편 b = -10.6829\n",
      "epoch = 1200, 기울기 a = 1.5978, y절편 b = -10.6829\n",
      "epoch = 1200, 기울기 a = 1.5978, y절편 b = -10.6829\n",
      "epoch = 1300, 기울기 a = 1.6427, y절편 b = -11.0157\n",
      "epoch = 1300, 기울기 a = 1.6404, y절편 b = -11.0163\n",
      "epoch = 1300, 기울기 a = 1.5696, y절편 b = -11.0281\n",
      "epoch = 1300, 기울기 a = 1.6409, y절편 b = -11.0192\n",
      "epoch = 1300, 기울기 a = 1.6431, y절편 b = -11.0190\n",
      "epoch = 1300, 기울기 a = 1.6432, y절편 b = -11.0189\n",
      "epoch = 1300, 기울기 a = 1.6432, y절편 b = -11.0189\n",
      "epoch = 1400, 기울기 a = 1.6858, y절편 b = -11.3334\n",
      "epoch = 1400, 기울기 a = 1.6838, y절편 b = -11.3339\n",
      "epoch = 1400, 기울기 a = 1.6160, y절편 b = -11.3452\n",
      "epoch = 1400, 기울기 a = 1.6842, y절편 b = -11.3367\n",
      "epoch = 1400, 기울기 a = 1.6862, y절편 b = -11.3365\n",
      "epoch = 1400, 기울기 a = 1.6863, y절편 b = -11.3365\n",
      "epoch = 1400, 기울기 a = 1.6863, y절편 b = -11.3365\n",
      "epoch = 1500, 기울기 a = 1.7268, y절편 b = -11.6347\n",
      "epoch = 1500, 기울기 a = 1.7250, y절편 b = -11.6352\n",
      "epoch = 1500, 기울기 a = 1.6600, y절편 b = -11.6460\n",
      "epoch = 1500, 기울기 a = 1.7253, y절편 b = -11.6378\n",
      "epoch = 1500, 기울기 a = 1.7271, y절편 b = -11.6377\n",
      "epoch = 1500, 기울기 a = 1.7272, y절편 b = -11.6376\n",
      "epoch = 1500, 기울기 a = 1.7272, y절편 b = -11.6376\n",
      "epoch = 1600, 기울기 a = 1.7658, y절편 b = -11.9214\n",
      "epoch = 1600, 기울기 a = 1.7643, y절편 b = -11.9218\n",
      "epoch = 1600, 기울기 a = 1.7018, y절편 b = -11.9322\n",
      "epoch = 1600, 기울기 a = 1.7646, y절편 b = -11.9244\n",
      "epoch = 1600, 기울기 a = 1.7662, y절편 b = -11.9242\n",
      "epoch = 1600, 기울기 a = 1.7662, y절편 b = -11.9242\n",
      "epoch = 1600, 기울기 a = 1.7662, y절편 b = -11.9242\n",
      "epoch = 1700, 기울기 a = 1.8032, y절편 b = -12.1951\n",
      "epoch = 1700, 기울기 a = 1.8018, y절편 b = -12.1954\n",
      "epoch = 1700, 기울기 a = 1.7417, y절편 b = -12.2054\n",
      "epoch = 1700, 기울기 a = 1.8021, y절편 b = -12.1979\n",
      "epoch = 1700, 기울기 a = 1.8035, y절편 b = -12.1977\n",
      "epoch = 1700, 기울기 a = 1.8036, y절편 b = -12.1977\n",
      "epoch = 1700, 기울기 a = 1.8036, y절편 b = -12.1977\n",
      "epoch = 1800, 기울기 a = 1.8390, y절편 b = -12.4568\n",
      "epoch = 1800, 기울기 a = 1.8378, y절편 b = -12.4571\n",
      "epoch = 1800, 기울기 a = 1.7799, y절편 b = -12.4668\n",
      "epoch = 1800, 기울기 a = 1.8380, y절편 b = -12.4595\n",
      "epoch = 1800, 기울기 a = 1.8393, y절편 b = -12.4594\n",
      "epoch = 1800, 기울기 a = 1.8394, y절편 b = -12.4594\n",
      "epoch = 1800, 기울기 a = 1.8394, y절편 b = -12.4594\n",
      "epoch = 1900, 기울기 a = 1.8734, y절편 b = -12.7078\n",
      "epoch = 1900, 기울기 a = 1.8723, y절편 b = -12.7080\n",
      "epoch = 1900, 기울기 a = 1.8164, y절편 b = -12.7174\n",
      "epoch = 1900, 기울기 a = 1.8725, y절편 b = -12.7104\n",
      "epoch = 1900, 기울기 a = 1.8737, y절편 b = -12.7102\n",
      "epoch = 1900, 기울기 a = 1.8737, y절편 b = -12.7102\n",
      "epoch = 1900, 기울기 a = 1.8737, y절편 b = -12.7102\n",
      "epoch = 2000, 기울기 a = 1.9065, y절편 b = -12.9489\n",
      "epoch = 2000, 기울기 a = 1.9055, y절편 b = -12.9491\n",
      "epoch = 2000, 기울기 a = 1.8515, y절편 b = -12.9581\n",
      "epoch = 2000, 기울기 a = 1.9057, y절편 b = -12.9514\n",
      "epoch = 2000, 기울기 a = 1.9068, y절편 b = -12.9513\n",
      "epoch = 2000, 기울기 a = 1.9068, y절편 b = -12.9513\n",
      "epoch = 2000, 기울기 a = 1.9068, y절편 b = -12.9513\n"
     ]
    },
    {
     "data": {
      "image/png": "[encoded data removed]",
      "text/plain": [
       "<Figure size 432x288 with 1 Axes>"
      ]
     },
     "metadata": {
      "needs_background": "light"
     },
     "output_type": "display_data"
    }
   ],
   "source": [
    "import numpy as np\n",
    "import pandas as pd\n",
    "import matplotlib.pyplot as plt\n",
    "\n",
    "#공부시간 x와 합격여부 y \n",
    "data = [[2,0], [4,0], [6,0], [8,1], [10,1], [12,1], [14,1]]\n",
    "x_data = [i[0] for i in data] #공부시간\n",
    "y_data = [i[1] for i in data] #합격여부\n",
    "\n",
    "#그래프로 나타내기\n",
    "plt.scatter(x_data, y_data)\n",
    "plt.xlim(0,15)\n",
    "plt.ylim(-0.1, 1.1)\n",
    "\n",
    "#기울기 a와 y절편 b 초기화\n",
    "a = 0\n",
    "b = 0\n",
    "\n",
    "#학습률\n",
    "lr = 0.05\n",
    "\n",
    "#반복횟수\n",
    "epochs = 2001\n",
    "\n",
    "#시그모이드 함수\n",
    "def sigmoid(x):\n",
    "    return 1/(1+np.e**(-x))\n",
    "\n",
    "#경사하강법 시작\n",
    "for i in range(epochs):\n",
    "    for x_data, y_data in data:\n",
    "        a_diff = x_data * (sigmoid(a*(x_data) + b) - y_data)\n",
    "        b_diff = sigmoid(a*(x_data)+b) - y_data\n",
    "        \n",
    "        a = a - lr*a_diff\n",
    "        b = b - lr*b_diff\n",
    "        \n",
    "        if i%100==0:\n",
    "            print('epoch = %.f, 기울기 a = %.04f, y절편 b = %.04f'%(i, a, b))\n",
    "            \n",
    "#그래프 그리기\n",
    "plt.scatter(x_data, y_data)\n",
    "plt.xlim(0,15)\n",
    "plt.ylim(-0.1, 1.1)\n",
    "x_range = (np.arange(0,15,0.1))\n",
    "plt.plot(np.arange(0,15,0.1), np.array([sigmoid(a*x + b) for x in x_range]))\n",
    "plt.show()"
   ]
  }
 ],
 "metadata": {
  "kernelspec": {
   "display_name": "Python 3",
   "language": "python",
   "name": "python3"
  },
  "language_info": {
   "codemirror_mode": {
    "name": "ipython",
    "version": 3
   },
   "file_extension": ".py",
   "mimetype": "text/x-python",
   "name": "python",
   "nbconvert_exporter": "python",
   "pygments_lexer": "ipython3",
   "version": "3.8.5"
  }
 },
 "nbformat": 4,
 "nbformat_minor": 4
}
