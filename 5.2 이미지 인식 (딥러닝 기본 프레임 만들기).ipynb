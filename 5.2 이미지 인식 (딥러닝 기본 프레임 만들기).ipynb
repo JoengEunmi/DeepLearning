{
 "cells": [
  {
   "cell_type": "code",
   "execution_count": 1,
   "metadata": {},
   "outputs": [],
   "source": [
    "#불러온 데이터를 실행해 보자\n",
    "#총 6만개의 학습셋과 1만개의 테스트셋을 불러와 속성 값을 지닌 X, 클래스 값을 지닌 Y로 구분하는 작업을 다시 한번 정리"
   ]
  },
  {
   "cell_type": "code",
   "execution_count": 19,
   "metadata": {},
   "outputs": [],
   "source": [
    "import numpy as np\n",
    "import tensorflow as tf\n",
    "\n",
    "seed = 0\n",
    "np.random.seed(3)\n",
    "tf.random.set_seed(3)"
   ]
  },
  {
   "cell_type": "code",
   "execution_count": 31,
   "metadata": {},
   "outputs": [],
   "source": [
    "from keras.datasets import mnist\n",
    "from keras.utils import np_utils\n",
    "\n",
    "(X_train, Y_train), (X_test, Y_test) = mnist.load_data()\n",
    "\n",
    "X_train = X_train.reshape(X_train.shape[0], 784).astype('float32')/255\n",
    "X_test = X_test.reshape(X_test.shape[0], 784).astype('float32')/255\n",
    "\n",
    "Y_train = np_utils.to_categorical(Y_train, 10)\n",
    "Y_test = np_utils.to_categorical(Y_test, 10)"
   ]
  },
  {
   "cell_type": "code",
   "execution_count": 32,
   "metadata": {},
   "outputs": [],
   "source": [
    "#딥러닝을 실행하고자 프레임을 설정한다\n",
    "#총 784개의 속성이 있고, 10개의 클래스가 있다"
   ]
  },
  {
   "cell_type": "code",
   "execution_count": 33,
   "metadata": {},
   "outputs": [],
   "source": [
    "from tensorflow.keras.models import Sequential\n",
    "from tensorflow.keras.layers import Dense\n",
    "\n",
    "model = Sequential()\n",
    "model.add(Dense(512, input_dim=784, activation='relu'))\n",
    "model.add(Dense(10, activation='softmax'))"
   ]
  },
  {
   "cell_type": "code",
   "execution_count": 34,
   "metadata": {},
   "outputs": [],
   "source": [
    "model.compile(loss='categorical_crossentropy', optimizer='adam', metrics=['accuracy'])"
   ]
  },
  {
   "cell_type": "code",
   "execution_count": 35,
   "metadata": {},
   "outputs": [],
   "source": [
    "#모델의 실행에 앞서 모델의 성과를 저장하고 모델의 최적화 단계에서 학습을 자동 중단하게끔 설정\n",
    "#10회이상 모델의 성과 향상이 없으면 자동으로 학습을 중단"
   ]
  },
  {
   "cell_type": "code",
   "execution_count": 36,
   "metadata": {},
   "outputs": [],
   "source": [
    "import os\n",
    "from keras.callbacks import ModelCheckpoint, EarlyStopping\n",
    "\n",
    "MODEL_DIR = './model/'\n",
    "if not os.path.exists(MODEL_DIR):\n",
    "    os.mkdir(MODEL_DIR)\n",
    "\n",
    "model_path = './model/{epoch:02d}-{val_loss:.4f}.hdf5'\n",
    "\n",
    "checkpointer = ModelCheckpoint(filepath=model_path, monitor='val_loss', verbose=1, save_best_only=True)\n",
    "early_stopping_callback = EarlyStopping(monitor='val_loss', patience=10)"
   ]
  },
  {
   "cell_type": "code",
   "execution_count": 37,
   "metadata": {},
   "outputs": [],
   "source": [
    "#샘플 200개를 모두 30번 실행하게끔 설정한다\n",
    "#그리고 테스트셋으로 최종 모델의 성과를 측정하여 그 값을 출력한다"
   ]
  },
  {
   "cell_type": "code",
   "execution_count": 38,
   "metadata": {},
   "outputs": [
    {
     "name": "stdout",
     "output_type": "stream",
     "text": [
      "\n",
      "Epoch 00001: val_loss improved from inf to 0.14746, saving model to ./model\\01-0.1475.hdf5\n",
      "\n",
      "Epoch 00002: val_loss improved from 0.14746 to 0.10214, saving model to ./model\\02-0.1021.hdf5\n",
      "\n",
      "Epoch 00003: val_loss improved from 0.10214 to 0.08895, saving model to ./model\\03-0.0889.hdf5\n",
      "\n",
      "Epoch 00004: val_loss improved from 0.08895 to 0.07867, saving model to ./model\\04-0.0787.hdf5\n",
      "\n",
      "Epoch 00005: val_loss improved from 0.07867 to 0.07374, saving model to ./model\\05-0.0737.hdf5\n",
      "\n",
      "Epoch 00006: val_loss improved from 0.07374 to 0.06788, saving model to ./model\\06-0.0679.hdf5\n",
      "\n",
      "Epoch 00007: val_loss improved from 0.06788 to 0.06615, saving model to ./model\\07-0.0661.hdf5\n",
      "\n",
      "Epoch 00008: val_loss improved from 0.06615 to 0.06283, saving model to ./model\\08-0.0628.hdf5\n",
      "\n",
      "Epoch 00009: val_loss did not improve from 0.06283\n",
      "\n",
      "Epoch 00010: val_loss did not improve from 0.06283\n",
      "\n",
      "Epoch 00011: val_loss did not improve from 0.06283\n",
      "\n",
      "Epoch 00012: val_loss did not improve from 0.06283\n",
      "\n",
      "Epoch 00013: val_loss improved from 0.06283 to 0.06054, saving model to ./model\\13-0.0605.hdf5\n",
      "\n",
      "Epoch 00014: val_loss did not improve from 0.06054\n",
      "\n",
      "Epoch 00015: val_loss did not improve from 0.06054\n",
      "\n",
      "Epoch 00016: val_loss did not improve from 0.06054\n",
      "\n",
      "Epoch 00017: val_loss did not improve from 0.06054\n",
      "\n",
      "Epoch 00018: val_loss did not improve from 0.06054\n",
      "\n",
      "Epoch 00019: val_loss did not improve from 0.06054\n",
      "\n",
      "Epoch 00020: val_loss did not improve from 0.06054\n",
      "\n",
      "Epoch 00021: val_loss did not improve from 0.06054\n",
      "\n",
      "Epoch 00022: val_loss did not improve from 0.06054\n",
      "\n",
      "Epoch 00023: val_loss did not improve from 0.06054\n",
      "313/313 [==============================] - 1s 2ms/step - loss: 0.0675 - accuracy: 0.9836\n",
      "Test Accuracy : 0.9836\n"
     ]
    }
   ],
   "source": [
    "history = model.fit(X_train, Y_train, validation_data=(X_test, Y_test), \n",
    "                    epochs=30, batch_size=200, verbose=0, callbacks=[checkpointer, early_stopping_callback])\n",
    "\n",
    "print('Test Accuracy : %.4f' %(model.evaluate(X_test,Y_test)[1]))"
   ]
  },
  {
   "cell_type": "code",
   "execution_count": 40,
   "metadata": {},
   "outputs": [],
   "source": [
    "#실행결과를 그래프로 표현해 보자 "
   ]
  },
  {
   "cell_type": "code",
   "execution_count": 41,
   "metadata": {},
   "outputs": [
    {
     "data": {
      "image/png": "[encoded data removed]",
      "text/plain": [
       "<Figure size 432x288 with 1 Axes>"
      ]
     },
     "metadata": {
      "needs_background": "light"
     },
     "output_type": "display_data"
    }
   ],
   "source": [
    "import matplotlib.pyplot as plt\n",
    "\n",
    "#테스트셋의 오차\n",
    "y_vloss = history.history['val_loss']\n",
    "\n",
    "#학습셋의 오차\n",
    "y_loss = history.history['loss']\n",
    "\n",
    "#그래프로 표현\n",
    "x_len = np.arange(len(y_loss))\n",
    "plt.plot(x_len, y_vloss, marker='.', c='red', label='Testset_loss')\n",
    "plt.plot(x_len, y_loss, marker='.', c='blue', label='Trainset_loss')\n",
    "\n",
    "#그래프에 그리드를 주고 레이블을 표시\n",
    "plt.legend(loc='upper right')\n",
    "plt.grid()\n",
    "plt.xlabel('epoch')\n",
    "plt.ylabel('loss')\n",
    "plt.show()"
   ]
  },
  {
   "cell_type": "code",
   "execution_count": 58,
   "metadata": {},
   "outputs": [],
   "source": [
    "#학습셋에 대한 오차는 계속해서 줄어든다\n",
    "#테스트셋의 과적합이 일어나기 전 학습을 끝낸것이 보인다"
   ]
  },
  {
   "cell_type": "markdown",
   "metadata": {},
   "source": [
    "#### - 코드정리"
   ]
  },
  {
   "cell_type": "code",
   "execution_count": 42,
   "metadata": {},
   "outputs": [],
   "source": [
    "from keras.datasets import mnist\n",
    "from keras.utils import np_utils\n",
    "from keras.models import Sequential\n",
    "from keras.layers import Dense\n",
    "from keras.callbacks import ModelCheckpoint, EarlyStopping\n",
    "\n",
    "import matplotlib.pyplot as plt\n",
    "import os\n",
    "import numpy as np\n",
    "import tensorflow as tf"
   ]
  },
  {
   "cell_type": "code",
   "execution_count": 43,
   "metadata": {},
   "outputs": [],
   "source": [
    "#seed값 설정\n",
    "seed = 0\n",
    "np.random.seed(3)\n",
    "tf.random.set_seed(3)"
   ]
  },
  {
   "cell_type": "code",
   "execution_count": 44,
   "metadata": {},
   "outputs": [],
   "source": [
    "#MNIST 데이터 불러오기\n",
    "(X_train, Y_train), (X_test, Y_test) = mnist.load_data()"
   ]
  },
  {
   "cell_type": "code",
   "execution_count": 45,
   "metadata": {},
   "outputs": [],
   "source": [
    "X_train = X_train.reshape(X_train.shape[0], 784).astype('float64') / 255\n",
    "X_test = X_test.reshape(X_test.shape[0], 784).astype('float64') / 255\n",
    "\n",
    "Y_train = np_utils.to_categorical(Y_train, 10)\n",
    "Y_test = np_utils.to_categorical(Y_test, 10)"
   ]
  },
  {
   "cell_type": "code",
   "execution_count": 47,
   "metadata": {},
   "outputs": [],
   "source": [
    "#모델 프레임 설정\n",
    "model = Sequential()\n",
    "model.add(Dense(512, input_dim=784, activation='relu'))\n",
    "model.add(Dense(10, activation='softmax'))"
   ]
  },
  {
   "cell_type": "code",
   "execution_count": 48,
   "metadata": {},
   "outputs": [],
   "source": [
    "#모델 실행 환경 설정\n",
    "model.compile(loss='categorical_crossentropy', optimizer='adam', metrics=['accuracy'])"
   ]
  },
  {
   "cell_type": "code",
   "execution_count": 50,
   "metadata": {},
   "outputs": [],
   "source": [
    "#모델 최적화 설정\n",
    "MODEL_DIR = './model/'\n",
    "\n",
    "if not os.path.exists(MODEL_DIR):\n",
    "    os.mkdir(MODEL_DIR)\n",
    "\n",
    "model_path = './model/{epoch:02d}-{val_loss:.4f}.hdf5'\n",
    "\n",
    "checkpointer = ModelCheckpoint(filepath=model_path, monitor='val_loss', verbose=1, save_best_only=True)\n",
    "early_stopping_callback = EarlyStopping(monitor='val_loss', patience=10)"
   ]
  },
  {
   "cell_type": "code",
   "execution_count": 51,
   "metadata": {},
   "outputs": [
    {
     "name": "stdout",
     "output_type": "stream",
     "text": [
      "\n",
      "Epoch 00001: val_loss improved from inf to 0.14746, saving model to ./model\\01-0.1475.hdf5\n",
      "\n",
      "Epoch 00002: val_loss improved from 0.14746 to 0.10214, saving model to ./model\\02-0.1021.hdf5\n",
      "\n",
      "Epoch 00003: val_loss improved from 0.10214 to 0.08895, saving model to ./model\\03-0.0889.hdf5\n",
      "\n",
      "Epoch 00004: val_loss improved from 0.08895 to 0.07867, saving model to ./model\\04-0.0787.hdf5\n",
      "\n",
      "Epoch 00005: val_loss improved from 0.07867 to 0.07374, saving model to ./model\\05-0.0737.hdf5\n",
      "\n",
      "Epoch 00006: val_loss improved from 0.07374 to 0.06788, saving model to ./model\\06-0.0679.hdf5\n",
      "\n",
      "Epoch 00007: val_loss improved from 0.06788 to 0.06615, saving model to ./model\\07-0.0661.hdf5\n",
      "\n",
      "Epoch 00008: val_loss improved from 0.06615 to 0.06283, saving model to ./model\\08-0.0628.hdf5\n",
      "\n",
      "Epoch 00009: val_loss did not improve from 0.06283\n",
      "\n",
      "Epoch 00010: val_loss did not improve from 0.06283\n",
      "\n",
      "Epoch 00011: val_loss did not improve from 0.06283\n",
      "\n",
      "Epoch 00012: val_loss did not improve from 0.06283\n",
      "\n",
      "Epoch 00013: val_loss improved from 0.06283 to 0.06054, saving model to ./model\\13-0.0605.hdf5\n",
      "\n",
      "Epoch 00014: val_loss did not improve from 0.06054\n",
      "\n",
      "Epoch 00015: val_loss did not improve from 0.06054\n",
      "\n",
      "Epoch 00016: val_loss did not improve from 0.06054\n",
      "\n",
      "Epoch 00017: val_loss did not improve from 0.06054\n",
      "\n",
      "Epoch 00018: val_loss did not improve from 0.06054\n",
      "\n",
      "Epoch 00019: val_loss did not improve from 0.06054\n",
      "\n",
      "Epoch 00020: val_loss did not improve from 0.06054\n",
      "\n",
      "Epoch 00021: val_loss did not improve from 0.06054\n",
      "\n",
      "Epoch 00022: val_loss did not improve from 0.06054\n",
      "\n",
      "Epoch 00023: val_loss did not improve from 0.06054\n"
     ]
    }
   ],
   "source": [
    "#모델의 실행\n",
    "history = model.fit(X_train, Y_train, validation_data=(X_test, Y_test), \n",
    "                    epochs=30, batch_size=200, verbose=0, callbacks=[checkpointer, early_stopping_callback])"
   ]
  },
  {
   "cell_type": "code",
   "execution_count": 53,
   "metadata": {},
   "outputs": [
    {
     "name": "stdout",
     "output_type": "stream",
     "text": [
      "313/313 [==============================] - 1s 2ms/step - loss: 0.0675 - accuracy: 0.9836\n",
      "Test Accuracy : 0.9836\n"
     ]
    }
   ],
   "source": [
    "#정확도 출력\n",
    "print('Test Accuracy : %.4f' %(model.evaluate(X_test,Y_test)[1]))"
   ]
  },
  {
   "cell_type": "code",
   "execution_count": 54,
   "metadata": {},
   "outputs": [],
   "source": [
    "#테스트셋의 오차\n",
    "y_vloss = history.history['val_loss']"
   ]
  },
  {
   "cell_type": "code",
   "execution_count": 55,
   "metadata": {},
   "outputs": [],
   "source": [
    "#학습셋의 오차\n",
    "y_loss = history.history['loss']"
   ]
  },
  {
   "cell_type": "code",
   "execution_count": 57,
   "metadata": {},
   "outputs": [
    {
     "data": {
      "image/png": "[encoded data removed]",
      "text/plain": [
       "<Figure size 432x288 with 1 Axes>"
      ]
     },
     "metadata": {
      "needs_background": "light"
     },
     "output_type": "display_data"
    }
   ],
   "source": [
    "#그래프로 표현\n",
    "x_len = np.arange(len(y_loss))\n",
    "plt.plot(x_len, y_vloss, marker='.', c='red', label='Testset_loss')\n",
    "plt.plot(x_len, y_loss, marker='.', c='blue', label='Trainset_loss')\n",
    "\n",
    "#그래프에 그리드를 주고 레이블 표시\n",
    "plt.legend(loc='upper right')\n",
    "plt.grid()\n",
    "plt.xlabel('epoch')\n",
    "plt.ylabel('loss')\n",
    "plt.show()"
   ]
  }
 ],
 "metadata": {
  "kernelspec": {
   "display_name": "Python 3",
   "language": "python",
   "name": "python3"
  },
  "language_info": {
   "codemirror_mode": {
    "name": "ipython",
    "version": 3
   },
   "file_extension": ".py",
   "mimetype": "text/x-python",
   "name": "python",
   "nbconvert_exporter": "python",
   "pygments_lexer": "ipython3",
   "version": "3.8.5"
  }
 },
 "nbformat": 4,
 "nbformat_minor": 4
}
