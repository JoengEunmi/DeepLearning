{
 "cells": [
  {
   "cell_type": "code",
   "execution_count": 1,
   "metadata": {},
   "outputs": [],
   "source": [
    "#인공지능이 문장을 듣고 이해한다는 것은 많은 문장을 이미 학습해 놓았다는 것이다\n",
    "#그런데 문장을 학습하는 것은 우리가 지금까지 공부한 내용과는 성질이 다르다\n",
    "#문장은 여러 개의 단어로 이루어져 있는데, 그 의미를 전달하려면 각 단어가 정해진 순서대로 입력되어야 하기 때문이다\n",
    "#과거에 입력된 데이터와 나중에 입력된 데이터 사이의 관계를 고려해야 하는 문제가 발생"
   ]
  },
  {
   "cell_type": "code",
   "execution_count": 2,
   "metadata": {},
   "outputs": [],
   "source": [
    "#이를 해결하기 위해 '순환 신경망(Recurrent Neural Network, RNN)'방법이 고안되었다\n",
    "#순환 신경망은 여러 개의 데이터가 순서대로 입력되었을 때 앞서 입력받은 데이터를 잠시 기억해 놓는 방법이다\n",
    "#그리고 기억된 데이터가 얼마나 중요한지를 판단하여 별도의 가중치를 줘서 다음 데이터로 넘어간다\n",
    "#모든 입력 값에 이 작업을 순서대로 실행하므로 다음 층으로 넘어가기 전에 같은 층을 맴도는 것처럼 보인다\n",
    "#이렇게 같은 층 안에서 맴도는 성질 때문에 순환 신경망이라고 부른다"
   ]
  },
  {
   "cell_type": "code",
   "execution_count": 3,
   "metadata": {},
   "outputs": [],
   "source": [
    "#앞서 나온 입력에 대한 결과가 뒤에 나오는 입력값에 영향을 주어야 한다\n",
    "#그래야지만 비슷한 두 문장이 입력되었을 때 그 차이를 구별하여 출력 값에 반영할 수 있다\n",
    "#예를 들어 오늘 주가를 묻는 경우는 오늘을 기준으로 계산되어야 하고 \n",
    "#어제 주가를 묻는 경우는 어제를 기준으로 계산되어야 한다"
   ]
  },
  {
   "cell_type": "code",
   "execution_count": 5,
   "metadata": {},
   "outputs": [],
   "source": [
    "#RNN이 개발된 이후, RNN의 결과를 더욱 개선하기 위한 노력이 계속되어왔다\n",
    "#이 중에서 'LSTM(Long Short Term Memory)'방법을 함께 사용하는 기법이 현재 가장 널리 사용되고 있다\n",
    "#LSTM은 한 층 안에서 반복을 많이 해야하는 RNN의 특성상 일반 신경망보다 기울기 소실 문제가 더 많이 발생하고 \n",
    "#이를 해결하기 어렵다는 단점을 보완한 방법이다\n",
    "#즉, 반복되기 직전에 다음 층으로 기억된 값을 넘길지를 관리하는 단계를 하나 더 추가하는 것이다"
   ]
  },
  {
   "cell_type": "code",
   "execution_count": 6,
   "metadata": {},
   "outputs": [],
   "source": [
    "#RNN방식의 장점은 입력 값과 출력 값을 어떻게 설정하느냐에 따라 다음과 같은 여러가지 상황에서 이를 적용할 수 있다\n",
    "#1. 다수 입력 단일 출력 : 문장을 읽고 뜻을 파악할 때 활용\n",
    "#2. 단일 입력 다수 출력 : 사진의 캡션을 만들 때 활용\n",
    "#3. 다수 입력 다수 출력 : 문장을 변역할 때 활용"
   ]
  },
  {
   "cell_type": "markdown",
   "metadata": {},
   "source": [
    "### LSTM을 이용한 로이터 뉴스 카테고리 분류하기"
   ]
  },
  {
   "cell_type": "code",
   "execution_count": 9,
   "metadata": {},
   "outputs": [],
   "source": [
    "#입력된 문장의 의미를 파악하는 것은 곧 모든 단어를 종합하여 하나의 카테고리로 분류하는 작업이라고 할 수 있다\n",
    "#예를 들어 '안녕, 오늘 날씨가 참 좋네'라는 말은 '인사'카테고리에 분류해야 한다"
   ]
  },
  {
   "cell_type": "code",
   "execution_count": 10,
   "metadata": {},
   "outputs": [],
   "source": [
    "#중부 지방은 대체로 맑겠으나, 남부 지방은 구름이 많겠습니다 -> 날씨\n",
    "#올 초부터 유동성의 힘으로 주가가 일정하게 상승했습니다 -> 주식\n",
    "#이번 선거에서는 누가 이길 것 같아? -> 정치\n",
    "#퍼셉트론의 한계를 극복한 신경망이 다시 뜨고 있대 -> 딥러닝"
   ]
  },
  {
   "cell_type": "code",
   "execution_count": 11,
   "metadata": {},
   "outputs": [],
   "source": [
    "#이번에 실습할 내용은 이처럼 긴 텍스트를 읽고 이 데이터가 어떤 의미를 지니는지를 카테고리로 분류하는 연습\n",
    "#실습을 위해 로이터 뉴스 데이터를 사용하겠다. 총 11,258개의 뉴스 기사가 46개의 카테고리로 나누어진 대용량 텍스트 데이터\n",
    "#데이터는 케라스를 통해 불러올 수 있다"
   ]
  },
  {
   "cell_type": "code",
   "execution_count": 12,
   "metadata": {},
   "outputs": [],
   "source": [
    "from keras.datasets import reuters"
   ]
  },
  {
   "cell_type": "code",
   "execution_count": 13,
   "metadata": {},
   "outputs": [],
   "source": [
    "#불러온 데이터를 학습셋과 테스트셋으로 나눈다"
   ]
  },
  {
   "cell_type": "code",
   "execution_count": 14,
   "metadata": {},
   "outputs": [
    {
     "name": "stdout",
     "output_type": "stream",
     "text": [
      "Downloading data from https://storage.googleapis.com/tensorflow/tf-keras-datasets/reuters.npz\n",
      "2113536/2110848 [==============================] - 1s 0us/step\n"
     ]
    },
    {
     "name": "stderr",
     "output_type": "stream",
     "text": [
      "C:\\Users\\name_\\.conda\\envs\\learning\\lib\\site-packages\\tensorflow\\python\\keras\\datasets\\reuters.py:148: VisibleDeprecationWarning: Creating an ndarray from ragged nested sequences (which is a list-or-tuple of lists-or-tuples-or ndarrays with different lengths or shapes) is deprecated. If you meant to do this, you must specify 'dtype=object' when creating the ndarray\n",
      "  x_train, y_train = np.array(xs[:idx]), np.array(labels[:idx])\n",
      "C:\\Users\\name_\\.conda\\envs\\learning\\lib\\site-packages\\tensorflow\\python\\keras\\datasets\\reuters.py:149: VisibleDeprecationWarning: Creating an ndarray from ragged nested sequences (which is a list-or-tuple of lists-or-tuples-or ndarrays with different lengths or shapes) is deprecated. If you meant to do this, you must specify 'dtype=object' when creating the ndarray\n",
      "  x_test, y_test = np.array(xs[idx:]), np.array(labels[idx:])\n"
     ]
    }
   ],
   "source": [
    "(X_train, Y_train), (X_test, Y_test) = reuters.load_data(num_words=1000, test_split=0.2)"
   ]
  },
  {
   "cell_type": "code",
   "execution_count": 15,
   "metadata": {},
   "outputs": [],
   "source": [
    "#reuters.load_data() 함수를 이용해 기사를 불러왔다\n",
    "#test_split 인자를 통해 20%를 테스트셋으로 사용했다\n",
    "#num_words라는 인자는 무엇을 의미하는지 알아보고자 먼저 불러온 데이터에 대해 몇 가지를 출력해 보겠다"
   ]
  },
  {
   "cell_type": "code",
   "execution_count": 16,
   "metadata": {},
   "outputs": [
    {
     "name": "stdout",
     "output_type": "stream",
     "text": [
      "46 카테고리\n",
      "8982 학습용 뉴스 기사\n",
      "2246 테스트용 뉴스 기사\n",
      "[1, 2, 2, 8, 43, 10, 447, 5, 25, 207, 270, 5, 2, 111, 16, 369, 186, 90, 67, 7, 89, 5, 19, 102, 6, 19, 124, 15, 90, 67, 84, 22, 482, 26, 7, 48, 4, 49, 8, 864, 39, 209, 154, 6, 151, 6, 83, 11, 15, 22, 155, 11, 15, 7, 48, 9, 2, 2, 504, 6, 258, 6, 272, 11, 15, 22, 134, 44, 11, 15, 16, 8, 197, 2, 90, 67, 52, 29, 209, 30, 32, 132, 6, 109, 15, 17, 12]\n"
     ]
    }
   ],
   "source": [
    "import numpy\n",
    "category = numpy.max(Y_train) + 1\n",
    "print(category, '카테고리')\n",
    "print(len(X_train), '학습용 뉴스 기사')\n",
    "print(len(X_test), '테스트용 뉴스 기사')\n",
    "print(X_train[0])"
   ]
  },
  {
   "cell_type": "code",
   "execution_count": 17,
   "metadata": {},
   "outputs": [],
   "source": [
    "#numpy.max() 함수로 Y_train의 종류를 구하니 46개의 카테고리로 구분되어 있음을 확인 (0부터 세기 때문에 1을 더해준다)\n",
    "#이 중 8,982는 학습용으로 2,246은 테스트용으로 준비되어 있다\n",
    "#그런데 print(X_train[0])으로 기사를 출력해 보니 단어가 나오는 게 아니라 숫자가 나오는 것을 확인할 수 있다\n",
    "#딥러닝은 단어를 그대로 사용하지 않고 숫자로 변환한 다음 학습할 수 있다\n",
    "#여기서는 데이터 안에서 해당 단어가 몇 번이나 나타나는지 세어 빈도에 따라 번호를 붙였다\n",
    "#예를 들어 3이라고 하면 3번째로 빈도가 높은 단어라는 것이다\n",
    "#이러한 작업을 위해서 tokenizer() 같은 함수를 사용하는데, 케라스는 이 작업을 이미 마친 데이터를 불러올 수 있다"
   ]
  },
  {
   "cell_type": "code",
   "execution_count": 18,
   "metadata": {},
   "outputs": [],
   "source": [
    "#기사 안의 단어 중에는 거의 사용되지 않는 것들도 있다 모든 단어를 사용하는 것은 비효율적이므로 빈도가 높은 단어만 불러와 사용하자\n",
    "#이때 사용하는 인자가 바로 테스트셋과 학습셋으로 나눌 때 함께 적용했던 num_word=1000의 의미이다\n",
    "#빈도가 1~1000에 해당하는 단어만 선택해서 불러오는 것이다"
   ]
  },
  {
   "cell_type": "code",
   "execution_count": 19,
   "metadata": {},
   "outputs": [],
   "source": [
    "#또 하나 주의해야 할 점은 각 기사의 단어 수가 제각각 다르므로 이를 동일하게 맞춰야 한다는 것이다\n",
    "#이때는 다음과 같이 데이터 전처리 함수 sequence()를 이용한다"
   ]
  },
  {
   "cell_type": "code",
   "execution_count": 20,
   "metadata": {},
   "outputs": [],
   "source": [
    "from keras.preprocessing import sequence\n",
    "x_train = sequence.pad_sequences(X_train, maxlen=100)\n",
    "x_test = sequence.pad_sequences(X_test, maxlen=100)"
   ]
  },
  {
   "cell_type": "code",
   "execution_count": 21,
   "metadata": {},
   "outputs": [],
   "source": [
    "#maxlen=100은 단어 수를 100개로 맞추라는 뜻이다. 만일 입력된 기사의 단어 수가 100보다 크면 100개째 단어만 선택하고 나머지는 버린다\n",
    "#100에서 모자를 때는 모자라는 부분을 모두 0으로 채운다\n",
    "#이제 y데이터에 원-핫 인코딩을 처리하여 데이터 전처리 과정을 마친다"
   ]
  },
  {
   "cell_type": "code",
   "execution_count": 22,
   "metadata": {},
   "outputs": [],
   "source": [
    "from keras.utils import np_utils\n",
    "y_train = np_utils.to_categorical(Y_train)\n",
    "y_test = np_utils.to_categorical(Y_test)"
   ]
  },
  {
   "cell_type": "code",
   "execution_count": 25,
   "metadata": {},
   "outputs": [],
   "source": [
    "#딥러닝 구조를 만들자"
   ]
  },
  {
   "cell_type": "code",
   "execution_count": 26,
   "metadata": {},
   "outputs": [],
   "source": [
    "from tensorflow.keras.models import Sequential\n",
    "from tensorflow.keras.layers import Dense, Embedding, LSTM\n",
    "\n",
    "model = Sequential()\n",
    "model.add(Embedding(1000, 100))\n",
    "model.add(LSTM(100, activation='tanh'))\n",
    "model.add(Dense(46, activation='softmax'))"
   ]
  },
  {
   "cell_type": "code",
   "execution_count": 27,
   "metadata": {},
   "outputs": [],
   "source": [
    "#Embedding층과 LSTM층이 새로 추가된 것이 보인다\n",
    "#Embedding층은 데이터 전처리 과정을 통해 입력된 값을 받아 다음 층이 알아들을 수 있는 형태로 변환한다\n",
    "#Embedding(불러온 단어의 총 개수, 기사당 단어 수) 형식으로 사용하며, 모델 설정 부분의 맨 처음에 있어야 한다"
   ]
  },
  {
   "cell_type": "code",
   "execution_count": 28,
   "metadata": {},
   "outputs": [],
   "source": [
    "#LSTM은 앞서 설명했듯이 RNN에서 기억 값에 대한 가중치를 제어하며, LSTM(기사당 단어 수, 기타 옵션) 형식으로 사용\n",
    "#LSTM의 활성화함수는 tanh를 사용한다"
   ]
  },
  {
   "cell_type": "code",
   "execution_count": 29,
   "metadata": {},
   "outputs": [
    {
     "name": "stdout",
     "output_type": "stream",
     "text": [
      "Epoch 1/20\n",
      "90/90 [==============================] - 14s 152ms/step - loss: 2.5988 - accuracy: 0.3475 - val_loss: 2.3876 - val_accuracy: 0.3620\n",
      "Epoch 2/20\n",
      "90/90 [==============================] - 13s 150ms/step - loss: 2.0856 - accuracy: 0.4591 - val_loss: 1.9246 - val_accuracy: 0.4960\n",
      "Epoch 3/20\n",
      "90/90 [==============================] - 12s 136ms/step - loss: 1.7983 - accuracy: 0.5422 - val_loss: 1.8179 - val_accuracy: 0.5392\n",
      "Epoch 4/20\n",
      "90/90 [==============================] - 12s 138ms/step - loss: 1.7010 - accuracy: 0.5667 - val_loss: 1.7685 - val_accuracy: 0.5815\n",
      "Epoch 5/20\n",
      "90/90 [==============================] - 12s 137ms/step - loss: 1.6492 - accuracy: 0.5847 - val_loss: 1.6625 - val_accuracy: 0.5819\n",
      "Epoch 6/20\n",
      "90/90 [==============================] - 12s 137ms/step - loss: 1.5610 - accuracy: 0.6070 - val_loss: 1.6612 - val_accuracy: 0.5895\n",
      "Epoch 7/20\n",
      "90/90 [==============================] - 12s 136ms/step - loss: 1.4830 - accuracy: 0.6206 - val_loss: 1.5407 - val_accuracy: 0.6198\n",
      "Epoch 8/20\n",
      "90/90 [==============================] - 12s 138ms/step - loss: 1.4321 - accuracy: 0.6382 - val_loss: 1.4933 - val_accuracy: 0.6300\n",
      "Epoch 9/20\n",
      "90/90 [==============================] - 12s 138ms/step - loss: 1.3589 - accuracy: 0.6603 - val_loss: 1.4556 - val_accuracy: 0.6358\n",
      "Epoch 10/20\n",
      "90/90 [==============================] - 12s 137ms/step - loss: 1.2993 - accuracy: 0.6728 - val_loss: 1.3891 - val_accuracy: 0.6487\n",
      "Epoch 11/20\n",
      "90/90 [==============================] - 13s 143ms/step - loss: 1.2399 - accuracy: 0.6844 - val_loss: 1.3672 - val_accuracy: 0.6616\n",
      "Epoch 12/20\n",
      "90/90 [==============================] - 12s 139ms/step - loss: 1.2024 - accuracy: 0.6934 - val_loss: 1.3207 - val_accuracy: 0.6643\n",
      "Epoch 13/20\n",
      "90/90 [==============================] - 13s 139ms/step - loss: 1.1405 - accuracy: 0.7074 - val_loss: 1.3377 - val_accuracy: 0.6581\n",
      "Epoch 14/20\n",
      "90/90 [==============================] - 13s 146ms/step - loss: 1.1062 - accuracy: 0.7178 - val_loss: 1.2758 - val_accuracy: 0.6772\n",
      "Epoch 15/20\n",
      "90/90 [==============================] - 13s 144ms/step - loss: 1.0537 - accuracy: 0.7263 - val_loss: 1.2406 - val_accuracy: 0.6879\n",
      "Epoch 16/20\n",
      "90/90 [==============================] - 13s 140ms/step - loss: 1.0133 - accuracy: 0.7386 - val_loss: 1.2408 - val_accuracy: 0.6790\n",
      "Epoch 17/20\n",
      "90/90 [==============================] - 13s 139ms/step - loss: 0.9801 - accuracy: 0.7440 - val_loss: 1.2065 - val_accuracy: 0.6848\n",
      "Epoch 18/20\n",
      "90/90 [==============================] - 13s 140ms/step - loss: 0.9421 - accuracy: 0.7611 - val_loss: 1.2016 - val_accuracy: 0.6928\n",
      "Epoch 19/20\n",
      "90/90 [==============================] - 13s 140ms/step - loss: 0.8965 - accuracy: 0.7689 - val_loss: 1.2012 - val_accuracy: 0.7012\n",
      "Epoch 20/20\n",
      "90/90 [==============================] - 13s 139ms/step - loss: 0.8508 - accuracy: 0.7857 - val_loss: 1.2464 - val_accuracy: 0.6910\n",
      "71/71 [==============================] - 2s 24ms/step - loss: 1.2464 - accuracy: 0.6910 0s\n",
      "\n",
      " Accuracy: 0.6910\n"
     ]
    }
   ],
   "source": [
    "model.compile(loss='categorical_crossentropy', optimizer='adam', metrics=['accuracy'])\n",
    "history = model.fit(x_train, y_train, batch_size=100, epochs=20, validation_data=(x_test, y_test))\n",
    "print('\\n Accuracy: %.4f' %(model.evaluate(x_test,y_test)[1]))"
   ]
  },
  {
   "cell_type": "markdown",
   "metadata": {},
   "source": [
    "#### - 코드정리"
   ]
  },
  {
   "cell_type": "code",
   "execution_count": 30,
   "metadata": {},
   "outputs": [],
   "source": [
    "from keras.datasets import reuters\n",
    "from keras.models import Sequential\n",
    "from keras.layers import Dense, Embedding, LSTM\n",
    "from keras.preprocessing import sequence\n",
    "from keras.utils import np_utils\n",
    "\n",
    "import numpy as np\n",
    "import tensorflow as tf\n",
    "import matplotlib.pyplot as plt"
   ]
  },
  {
   "cell_type": "code",
   "execution_count": 31,
   "metadata": {},
   "outputs": [],
   "source": [
    "#seed값 설정\n",
    "seed = 0\n",
    "np.random.seed(3)\n",
    "tf.random.set_seed(3)"
   ]
  },
  {
   "cell_type": "code",
   "execution_count": 34,
   "metadata": {},
   "outputs": [
    {
     "name": "stderr",
     "output_type": "stream",
     "text": [
      "C:\\Users\\name_\\.conda\\envs\\learning\\lib\\site-packages\\tensorflow\\python\\keras\\datasets\\reuters.py:148: VisibleDeprecationWarning: Creating an ndarray from ragged nested sequences (which is a list-or-tuple of lists-or-tuples-or ndarrays with different lengths or shapes) is deprecated. If you meant to do this, you must specify 'dtype=object' when creating the ndarray\n",
      "  x_train, y_train = np.array(xs[:idx]), np.array(labels[:idx])\n",
      "C:\\Users\\name_\\.conda\\envs\\learning\\lib\\site-packages\\tensorflow\\python\\keras\\datasets\\reuters.py:149: VisibleDeprecationWarning: Creating an ndarray from ragged nested sequences (which is a list-or-tuple of lists-or-tuples-or ndarrays with different lengths or shapes) is deprecated. If you meant to do this, you must specify 'dtype=object' when creating the ndarray\n",
      "  x_test, y_test = np.array(xs[idx:]), np.array(labels[idx:])\n"
     ]
    }
   ],
   "source": [
    "#불러온 데이터를 학습셋과 테스트셋으로 나누기\n",
    "(X_train, Y_train), (X_test, Y_test) = reuters.load_data(num_words=1000, test_split=0.2)"
   ]
  },
  {
   "cell_type": "code",
   "execution_count": 35,
   "metadata": {},
   "outputs": [
    {
     "name": "stdout",
     "output_type": "stream",
     "text": [
      "46 카테고리\n",
      "8982 학습용 뉴스 기사\n",
      "2246 테스트용 뉴스 기사\n",
      "[1, 2, 2, 8, 43, 10, 447, 5, 25, 207, 270, 5, 2, 111, 16, 369, 186, 90, 67, 7, 89, 5, 19, 102, 6, 19, 124, 15, 90, 67, 84, 22, 482, 26, 7, 48, 4, 49, 8, 864, 39, 209, 154, 6, 151, 6, 83, 11, 15, 22, 155, 11, 15, 7, 48, 9, 2, 2, 504, 6, 258, 6, 272, 11, 15, 22, 134, 44, 11, 15, 16, 8, 197, 2, 90, 67, 52, 29, 209, 30, 32, 132, 6, 109, 15, 17, 12]\n"
     ]
    }
   ],
   "source": [
    "#데이터 확인하기\n",
    "category = np.max(Y_train) + 1\n",
    "print(category, '카테고리')\n",
    "print(len(X_train), '학습용 뉴스 기사')\n",
    "print(len(X_test), '테스트용 뉴스 기사')\n",
    "print(X_train[0])"
   ]
  },
  {
   "cell_type": "code",
   "execution_count": 36,
   "metadata": {},
   "outputs": [],
   "source": [
    "#데이터 전처리\n",
    "x_train = sequence.pad_sequences(X_train, maxlen=100)\n",
    "x_test = sequence.pad_sequences(X_test, maxlen=100)\n",
    "y_train = np_utils.to_categorical(Y_train)\n",
    "y_test = np_utils.to_categorical(Y_test)"
   ]
  },
  {
   "cell_type": "code",
   "execution_count": 37,
   "metadata": {},
   "outputs": [],
   "source": [
    "#모델의 설정\n",
    "model = Sequential()\n",
    "model.add(Embedding(1000, 100))\n",
    "model.add(LSTM(100, activation='tanh'))\n",
    "model.add(Dense(46, activation='softmax'))"
   ]
  },
  {
   "cell_type": "code",
   "execution_count": 38,
   "metadata": {},
   "outputs": [
    {
     "name": "stdout",
     "output_type": "stream",
     "text": [
      "Epoch 1/20\n",
      "90/90 [==============================] - 13s 144ms/step - loss: 2.5777 - accuracy: 0.3497 - val_loss: 2.1698 - val_accuracy: 0.4488\n",
      "Epoch 2/20\n",
      "90/90 [==============================] - 12s 135ms/step - loss: 2.0351 - accuracy: 0.4904 - val_loss: 1.9314 - val_accuracy: 0.5062\n",
      "Epoch 3/20\n",
      "90/90 [==============================] - 12s 137ms/step - loss: 1.8896 - accuracy: 0.5153 - val_loss: 1.8188 - val_accuracy: 0.5227\n",
      "Epoch 4/20\n",
      "90/90 [==============================] - 13s 144ms/step - loss: 1.7248 - accuracy: 0.5533 - val_loss: 1.7089 - val_accuracy: 0.5588\n",
      "Epoch 5/20\n",
      "90/90 [==============================] - 13s 142ms/step - loss: 1.6690 - accuracy: 0.5749 - val_loss: 1.7092 - val_accuracy: 0.5735\n",
      "Epoch 6/20\n",
      "90/90 [==============================] - 13s 143ms/step - loss: 1.6266 - accuracy: 0.5853 - val_loss: 1.6125 - val_accuracy: 0.6051\n",
      "Epoch 7/20\n",
      "90/90 [==============================] - 13s 143ms/step - loss: 1.4977 - accuracy: 0.6204 - val_loss: 1.5190 - val_accuracy: 0.6327\n",
      "Epoch 8/20\n",
      "90/90 [==============================] - 13s 147ms/step - loss: 1.3971 - accuracy: 0.6471 - val_loss: 1.4387 - val_accuracy: 0.6474\n",
      "Epoch 9/20\n",
      "90/90 [==============================] - 13s 141ms/step - loss: 1.2987 - accuracy: 0.6720 - val_loss: 1.4062 - val_accuracy: 0.6407\n",
      "Epoch 10/20\n",
      "90/90 [==============================] - 13s 140ms/step - loss: 1.2189 - accuracy: 0.6893 - val_loss: 1.3479 - val_accuracy: 0.6518\n",
      "Epoch 11/20\n",
      "90/90 [==============================] - 13s 140ms/step - loss: 1.1505 - accuracy: 0.7061 - val_loss: 1.3015 - val_accuracy: 0.6723\n",
      "Epoch 12/20\n",
      "90/90 [==============================] - 13s 145ms/step - loss: 1.0849 - accuracy: 0.7209 - val_loss: 1.2546 - val_accuracy: 0.6785\n",
      "Epoch 13/20\n",
      "90/90 [==============================] - 13s 144ms/step - loss: 1.0344 - accuracy: 0.7356 - val_loss: 1.2345 - val_accuracy: 0.6834\n",
      "Epoch 14/20\n",
      "90/90 [==============================] - 13s 147ms/step - loss: 0.9856 - accuracy: 0.7475 - val_loss: 1.2004 - val_accuracy: 0.7012\n",
      "Epoch 15/20\n",
      "90/90 [==============================] - 13s 145ms/step - loss: 0.9373 - accuracy: 0.7614 - val_loss: 1.1986 - val_accuracy: 0.7088\n",
      "Epoch 16/20\n",
      "90/90 [==============================] - 13s 146ms/step - loss: 0.8909 - accuracy: 0.7738 - val_loss: 1.1902 - val_accuracy: 0.7053\n",
      "Epoch 17/20\n",
      "90/90 [==============================] - 13s 144ms/step - loss: 0.8427 - accuracy: 0.7864 - val_loss: 1.1802 - val_accuracy: 0.7093\n",
      "Epoch 18/20\n",
      "90/90 [==============================] - 13s 143ms/step - loss: 0.8011 - accuracy: 0.7997 - val_loss: 1.1818 - val_accuracy: 0.7021\n",
      "Epoch 19/20\n",
      "90/90 [==============================] - 13s 148ms/step - loss: 0.7712 - accuracy: 0.8057 - val_loss: 1.2234 - val_accuracy: 0.7048\n",
      "Epoch 20/20\n",
      "90/90 [==============================] - 14s 158ms/step - loss: 0.7319 - accuracy: 0.8167 - val_loss: 1.2318 - val_accuracy: 0.7102\n",
      "71/71 [==============================] - 2s 28ms/step - loss: 1.2318 - accuracy: 0.7102\n",
      "\n",
      " Accuracy : 0.7102\n"
     ]
    }
   ],
   "source": [
    "#모델의 컴파일\n",
    "model.compile(loss='categorical_crossentropy', optimizer='adam', metrics=['accuracy'])\n",
    "history = model.fit(x_train, y_train, epochs=20, batch_size=100, validation_data=(x_test,y_test))\n",
    "print('\\n Accuracy : %.4f' %(model.evaluate(x_test,y_test)[1]))"
   ]
  },
  {
   "cell_type": "code",
   "execution_count": 41,
   "metadata": {},
   "outputs": [
    {
     "data": {
      "image/png": "[encoded data removed]",
      "text/plain": [
       "<Figure size 432x288 with 1 Axes>"
      ]
     },
     "metadata": {
      "needs_background": "light"
     },
     "output_type": "display_data"
    }
   ],
   "source": [
    "#테스트셋오차\n",
    "y_vloss = history.history['val_loss']\n",
    "#학습셋오차\n",
    "y_loss = history.history['loss']\n",
    "#그래프로 표현\n",
    "x_len=np.arange(len(y_loss))\n",
    "plt.plot(x_len, y_vloss, marker='.', c='red', label='Testset Loss')\n",
    "plt.plot(x_len, y_loss, marker='.', c='blue', label='Trainset Loss')\n",
    "#그래프에 그리드 추가하고 레이블 표시\n",
    "plt.legend(loc='upper right')\n",
    "plt.grid()\n",
    "plt.xlabel('epoch')\n",
    "plt.ylabel('loss')\n",
    "plt.show()"
   ]
  },
  {
   "cell_type": "code",
   "execution_count": 42,
   "metadata": {},
   "outputs": [],
   "source": [
    "#테스트셋에 대한 정확도가 71.02%를 보이고 있다\n",
    "#테스트 오차가 상승하기 전까지의 학습이 과적합 직전의 최적 학습 시간이다"
   ]
  },
  {
   "cell_type": "markdown",
   "metadata": {},
   "source": [
    "### LSTM과 CNN의 조합을 이용한 영화 리뷰 분류하기"
   ]
  },
  {
   "cell_type": "code",
   "execution_count": 43,
   "metadata": {},
   "outputs": [],
   "source": [
    "#이번에 사용할 인터넷 영화 데이터베이스는 영화와 관련된 정보와 출연진 정보, 개봉 정보, 영화 후기, 평점에 이르기까지\n",
    "#매우 폭 넓은 데이터가 저장된 자료이다\n",
    "#영화에 관해 남긴 2만 5000여개의 영화리뷰가 담겨져 있으며, 해당영화를 긍정적으로 평가했는지 부정적으로 평가했는지도 담겨있다\n",
    "#앞서 다루었던 로이터 뉴스 데이터와 마찬가지로 각 단어에 대한 전처리를 마친 상태이다\n",
    "#데이터셋에서 나타나는 빈도에 따라 번호가 정해지므로 빈도가 높은 데이터를 불러와 학습시킬 수 있다\n",
    "#클래스가 긍정 또는 부정 2가지 뿐이라 원-핫 인코딩 과정이 필요없다"
   ]
  },
  {
   "cell_type": "code",
   "execution_count": 45,
   "metadata": {},
   "outputs": [],
   "source": [
    "#데이터 불러오기\n",
    "from keras.datasets import imdb"
   ]
  },
  {
   "cell_type": "code",
   "execution_count": 46,
   "metadata": {},
   "outputs": [
    {
     "name": "stdout",
     "output_type": "stream",
     "text": [
      "Downloading data from https://storage.googleapis.com/tensorflow/tf-keras-datasets/imdb.npz\n",
      "17465344/17464789 [==============================] - 2s 0us/step\n"
     ]
    },
    {
     "name": "stderr",
     "output_type": "stream",
     "text": [
      "<__array_function__ internals>:5: VisibleDeprecationWarning: Creating an ndarray from ragged nested sequences (which is a list-or-tuple of lists-or-tuples-or ndarrays with different lengths or shapes) is deprecated. If you meant to do this, you must specify 'dtype=object' when creating the ndarray\n",
      "C:\\Users\\name_\\.conda\\envs\\learning\\lib\\site-packages\\tensorflow\\python\\keras\\datasets\\imdb.py:159: VisibleDeprecationWarning: Creating an ndarray from ragged nested sequences (which is a list-or-tuple of lists-or-tuples-or ndarrays with different lengths or shapes) is deprecated. If you meant to do this, you must specify 'dtype=object' when creating the ndarray\n",
      "  x_train, y_train = np.array(xs[:idx]), np.array(labels[:idx])\n",
      "C:\\Users\\name_\\.conda\\envs\\learning\\lib\\site-packages\\tensorflow\\python\\keras\\datasets\\imdb.py:160: VisibleDeprecationWarning: Creating an ndarray from ragged nested sequences (which is a list-or-tuple of lists-or-tuples-or ndarrays with different lengths or shapes) is deprecated. If you meant to do this, you must specify 'dtype=object' when creating the ndarray\n",
      "  x_test, y_test = np.array(xs[idx:]), np.array(labels[idx:])\n"
     ]
    }
   ],
   "source": [
    "#학습셋과 테스트셋 지정하기\n",
    "(X_train, Y_train), (X_test, Y_test) = imdb.load_data(num_words=5000)"
   ]
  },
  {
   "cell_type": "code",
   "execution_count": 47,
   "metadata": {},
   "outputs": [],
   "source": [
    "#데이터 전처리\n",
    "x_train = sequence.pad_sequences(X_train, maxlen=100)\n",
    "x_test = sequence.pad_sequences(X_test, maxlen=100)"
   ]
  },
  {
   "cell_type": "code",
   "execution_count": 48,
   "metadata": {},
   "outputs": [],
   "source": [
    "#모델 설정 마지막에 model.summary()함수를 넣으면 현재 설정된 모델의 구조를 한눈에 볼 수 있다"
   ]
  },
  {
   "cell_type": "code",
   "execution_count": 51,
   "metadata": {},
   "outputs": [
    {
     "name": "stdout",
     "output_type": "stream",
     "text": [
      "Model: \"sequential_4\"\n",
      "_________________________________________________________________\n",
      "Layer (type)                 Output Shape              Param #   \n",
      "=================================================================\n",
      "embedding_4 (Embedding)      (None, None, 100)         500000    \n",
      "_________________________________________________________________\n",
      "dropout_2 (Dropout)          (None, None, 100)         0         \n",
      "_________________________________________________________________\n",
      "conv1d_2 (Conv1D)            (None, None, 64)          32064     \n",
      "_________________________________________________________________\n",
      "max_pooling1d_1 (MaxPooling1 (None, None, 64)          0         \n",
      "_________________________________________________________________\n",
      "lstm_3 (LSTM)                (None, 55)                26400     \n",
      "_________________________________________________________________\n",
      "dense_3 (Dense)              (None, 1)                 56        \n",
      "_________________________________________________________________\n",
      "activation (Activation)      (None, 1)                 0         \n",
      "=================================================================\n",
      "Total params: 558,520\n",
      "Trainable params: 558,520\n",
      "Non-trainable params: 0\n",
      "_________________________________________________________________\n"
     ]
    }
   ],
   "source": [
    "from keras.models import Sequential\n",
    "from keras.layers import Dense, Embedding, Dropout, LSTM, Conv1D, MaxPooling1D, Activation\n",
    "\n",
    "model = Sequential()\n",
    "model.add(Embedding(5000,100))\n",
    "model.add(Dropout(0.5))\n",
    "model.add(Conv1D(64, 5, padding='valid', activation='relu', strides=1))\n",
    "model.add(MaxPooling1D(pool_size=4))\n",
    "model.add(LSTM(55))\n",
    "model.add(Dense(1))\n",
    "model.add(Activation('sigmoid'))\n",
    "model.summary()"
   ]
  },
  {
   "cell_type": "code",
   "execution_count": 52,
   "metadata": {},
   "outputs": [],
   "source": [
    "#Conv1D는 Conv2D 개념을 1차원으로 옮긴것이다\n",
    "#컨볼루션 층이 1차원이고 이동하는 배열(mask)도 1차원이다\n",
    "#마스크가 1칸씩 지나가면서(strides=1) 원래의 1차원 배열에 가중치를 각각 곱하여 새로운 층인 컨볼루션 층을 만든다\n",
    "#MaxPooling1D도 마찬가지로 2차원 배열이 1차원으로 바뀐것이고, 정해진 구역에서 가장 큰 값을 다음 층으로 넘기고 나머지는 버린다"
   ]
  },
  {
   "cell_type": "markdown",
   "metadata": {},
   "source": [
    "#### - 코드정리"
   ]
  },
  {
   "cell_type": "code",
   "execution_count": 53,
   "metadata": {},
   "outputs": [],
   "source": [
    "from keras.preprocessing import sequence\n",
    "from keras.models import Sequential\n",
    "from keras.layers import Dense, Embedding, Dropout, Conv1D, LSTM, MaxPooling1D, Activation\n",
    "from keras.datasets import imdb\n",
    "\n",
    "import numpy as np\n",
    "import tensorflow as tf\n",
    "import matplotlib.pyplot as plt"
   ]
  },
  {
   "cell_type": "code",
   "execution_count": 54,
   "metadata": {},
   "outputs": [],
   "source": [
    "#seed값 설정\n",
    "seed = 0\n",
    "np.random.seed(seed)\n",
    "tf.random.set_seed(3)"
   ]
  },
  {
   "cell_type": "code",
   "execution_count": 55,
   "metadata": {},
   "outputs": [],
   "source": [
    "#학습셋과 테스트셋 분류\n",
    "(X_train, Y_train), (X_test, Y_test) = imdb.load_data(num_words=5000)"
   ]
  },
  {
   "cell_type": "code",
   "execution_count": 58,
   "metadata": {},
   "outputs": [],
   "source": [
    "#데이터 전처리\n",
    "x_train = sequence.pad_sequences(X_train, maxlen=100)\n",
    "x_test = sequence.pad_sequences(X_test, maxlen=100)"
   ]
  },
  {
   "cell_type": "code",
   "execution_count": 61,
   "metadata": {},
   "outputs": [
    {
     "name": "stdout",
     "output_type": "stream",
     "text": [
      "Model: \"sequential_7\"\n",
      "_________________________________________________________________\n",
      "Layer (type)                 Output Shape              Param #   \n",
      "=================================================================\n",
      "embedding_7 (Embedding)      (None, None, 100)         500000    \n",
      "_________________________________________________________________\n",
      "dropout_3 (Dropout)          (None, None, 100)         0         \n",
      "_________________________________________________________________\n",
      "conv1d_3 (Conv1D)            (None, None, 64)          32064     \n",
      "_________________________________________________________________\n",
      "max_pooling1d_2 (MaxPooling1 (None, None, 64)          0         \n",
      "_________________________________________________________________\n",
      "lstm_4 (LSTM)                (None, 55)                26400     \n",
      "_________________________________________________________________\n",
      "dense_4 (Dense)              (None, 1)                 56        \n",
      "_________________________________________________________________\n",
      "activation_1 (Activation)    (None, 1)                 0         \n",
      "=================================================================\n",
      "Total params: 558,520\n",
      "Trainable params: 558,520\n",
      "Non-trainable params: 0\n",
      "_________________________________________________________________\n"
     ]
    }
   ],
   "source": [
    "#모델의 설정\n",
    "model = Sequential()\n",
    "model.add(Embedding(5000, 100))\n",
    "model.add(Dropout(0.5))\n",
    "model.add(Conv1D(64, 5, padding='valid', activation='relu', strides=1))\n",
    "model.add(MaxPooling1D(pool_size=4))\n",
    "model.add(LSTM(55))\n",
    "model.add(Dense(1))\n",
    "model.add(Activation('sigmoid'))\n",
    "model.summary()"
   ]
  },
  {
   "cell_type": "code",
   "execution_count": 65,
   "metadata": {},
   "outputs": [
    {
     "name": "stdout",
     "output_type": "stream",
     "text": [
      "Epoch 1/5\n",
      "250/250 [==============================] - 22s 89ms/step - loss: 0.0343 - accuracy: 0.9900 - val_loss: 0.6304 - val_accuracy: 0.8418\n",
      "Epoch 2/5\n",
      "250/250 [==============================] - 22s 86ms/step - loss: 0.0414 - accuracy: 0.9862 - val_loss: 0.5866 - val_accuracy: 0.8443\n",
      "Epoch 3/5\n",
      "250/250 [==============================] - 21s 85ms/step - loss: 0.0599 - accuracy: 0.9797 - val_loss: 0.5919 - val_accuracy: 0.8356\n",
      "Epoch 4/5\n",
      "250/250 [==============================] - 21s 84ms/step - loss: 0.0439 - accuracy: 0.9856 - val_loss: 0.5749 - val_accuracy: 0.8382\n",
      "Epoch 5/5\n",
      "250/250 [==============================] - 23s 90ms/step - loss: 0.0354 - accuracy: 0.9878 - val_loss: 0.6019 - val_accuracy: 0.8390\n",
      "782/782 [==============================] - 5s 7ms/step - loss: 0.6019 - accuracy: 0.8390\n",
      "\n",
      " Accuracy:0.8390\n"
     ]
    }
   ],
   "source": [
    "#모델의 실행\n",
    "model.compile(loss='binary_crossentropy', optimizer='adam', metrics=['accuracy'])\n",
    "history = model.fit(x_train, Y_train, epochs=5, batch_size=100, validation_data=(x_test,Y_test))\n",
    "print('\\n Accuracy:%.4f' %(model.evaluate(x_test,Y_test)[1]))"
   ]
  },
  {
   "cell_type": "code",
   "execution_count": 67,
   "metadata": {},
   "outputs": [
    {
     "data": {
      "image/png": "[encoded data removed]",
      "text/plain": [
       "<Figure size 432x288 with 1 Axes>"
      ]
     },
     "metadata": {
      "needs_background": "light"
     },
     "output_type": "display_data"
    }
   ],
   "source": [
    "#테스트셋 오차\n",
    "y_vloss = history.history['val_loss']\n",
    "#학습셋오차\n",
    "y_loss = history.history['loss']\n",
    "#그래프로 표현\n",
    "\n",
    "x_len = np.arange(len(y_loss))\n",
    "plt.plot(x_len, y_vloss, marker='.', c='red', label='Testset Loss')\n",
    "plt.plot(x_len, y_loss, marker='.', c='blue', label='Trainset Loss')\n",
    "#그래프에 그리드를 주고 레이블을 표시\n",
    "plt.legend(loc='upper right')\n",
    "plt.grid()\n",
    "plt.xlabel('epoch')\n",
    "plt.ylabel('loss')\n",
    "plt.show()"
   ]
  },
  {
   "cell_type": "code",
   "execution_count": null,
   "metadata": {},
   "outputs": [],
   "source": []
  }
 ],
 "metadata": {
  "kernelspec": {
   "display_name": "Python 3",
   "language": "python",
   "name": "python3"
  },
  "language_info": {
   "codemirror_mode": {
    "name": "ipython",
    "version": 3
   },
   "file_extension": ".py",
   "mimetype": "text/x-python",
   "name": "python",
   "nbconvert_exporter": "python",
   "pygments_lexer": "ipython3",
   "version": "3.8.5"
  }
 },
 "nbformat": 4,
 "nbformat_minor": 4
}
